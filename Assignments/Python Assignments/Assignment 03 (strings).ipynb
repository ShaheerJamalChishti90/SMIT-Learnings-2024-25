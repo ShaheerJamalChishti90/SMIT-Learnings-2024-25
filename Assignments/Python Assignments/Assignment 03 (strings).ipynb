{
 "cells": [
  {
   "cell_type": "markdown",
   "metadata": {},
   "source": [
    "1. Write a program that accepts a string from user. Your program should count and display number of\n",
    "vowels in that string. "
   ]
  },
  {
   "cell_type": "code",
   "execution_count": 6,
   "metadata": {},
   "outputs": [
    {
     "name": "stdout",
     "output_type": "stream",
     "text": [
      "String have 3 vowels in it\n"
     ]
    }
   ],
   "source": [
    "a = input(\"Enter something here: \").lower()\n",
    "vowels = (\"a\", \"e\", \"i\", \"o\", \"u\")\n",
    "count = 0\n",
    "for i in a:\n",
    "    if i in vowels:\n",
    "        count += 1\n",
    "print(f\"String have {count} vowels in it\")"
   ]
  },
  {
   "cell_type": "markdown",
   "metadata": {},
   "source": [
    " 2. Write a program that reads a string from keyboard and display:\n",
    "* The number of uppercase letters in the string\n",
    "* The number of lowercase letters in the string\n",
    "* The number of digits in the string\n",
    "* The number of whitespace characters in the string s = input(\"Enter a string: \")\n"
   ]
  },
  {
   "cell_type": "code",
   "execution_count": 7,
   "metadata": {},
   "outputs": [
    {
     "name": "stdout",
     "output_type": "stream",
     "text": [
      "The nummber of\n",
      "Upper Case: 2\n",
      "Lower Case: 10\n",
      "White Spaces: 1\n",
      "Digits: 2\n"
     ]
    }
   ],
   "source": [
    "a = input(\"Enter something here: \")\n",
    "u_case = 0 \n",
    "l_case = 0\n",
    "digits = 0\n",
    "w_spaces = 0\n",
    "\n",
    "for i in a:\n",
    "    if i == ' ':\n",
    "        w_spaces += 1\n",
    "    elif i.isupper():\n",
    "        u_case += 1\n",
    "    elif i.islower():\n",
    "        l_case += 1\n",
    "    elif i.isdigit():\n",
    "        digits += 1\n",
    "        \n",
    "print(f\"The nummber of\\nUpper Case: {u_case}\\nLower Case: {l_case}\\nWhite Spaces: {w_spaces}\\nDigits: {digits}\")"
   ]
  },
  {
   "cell_type": "markdown",
   "metadata": {},
   "source": [
    "3. Write a Python program that accepts a string from user. Your program should create and display a\n",
    "new string where the first and last characters have been exchanged.\n",
    "For example if the user enters the string 'HELLO' then new string would be 'OELLH'"
   ]
  },
  {
   "cell_type": "code",
   "execution_count": 1,
   "metadata": {},
   "outputs": [
    {
     "name": "stdout",
     "output_type": "stream",
     "text": [
      "reehahs\n"
     ]
    }
   ],
   "source": [
    "user = input(\"Enter a string: \")\n",
    "rev = \"\"\n",
    "for i in user:\n",
    "    rev = i + rev\n",
    "print(rev)"
   ]
  },
  {
   "cell_type": "markdown",
   "metadata": {},
   "source": [
    "5. Write a Python program that accepts a string from user. Your program should create a new string by\n",
    "shifting one position to left.\n",
    "For example if the user enters the string 'examination 2021' then new string would be 'xamination\n",
    "2021e'"
   ]
  },
  {
   "cell_type": "code",
   "execution_count": 2,
   "metadata": {},
   "outputs": [
    {
     "name": "stdout",
     "output_type": "stream",
     "text": [
      "String after shifting one position to left: haheers\n"
     ]
    }
   ],
   "source": [
    "user_string = input(\"Enter a string: \")\n",
    "\n",
    "if user_string:\n",
    "    new_string = user_string[1:] + user_string[0]\n",
    "else:\n",
    "    new_string = user_string\n",
    "    \n",
    "\n",
    "print(f\"String after shifting one position to left: {new_string}\")"
   ]
  },
  {
   "cell_type": "markdown",
   "metadata": {},
   "source": [
    " 6. Write a program that asks the user to input his name and print its initials. Assuming that the user\n",
    "always types first name, middle name and last name and does not include any unnecessary spaces.\n",
    "For example, if the user enters Ajay Kumar Garg the program should display A. K. G.\n",
    "Note:Don't use split() method \n"
   ]
  },
  {
   "cell_type": "code",
   "execution_count": null,
   "metadata": {},
   "outputs": [
    {
     "name": "stdout",
     "output_type": "stream",
     "text": [
      "['S', 'J']\n"
     ]
    }
   ],
   "source": [
    "username = input(\"Enter a username: \")\n",
    "a = []\n",
    "for i in username:\n",
    "    if i.isupper():\n",
    "        a.append(i)\n",
    "print(str(a))\n",
    "\n",
    "# [a.append(i) for i in username if i.isupper()]\n",
    "# print(str(a))"
   ]
  },
  {
   "cell_type": "markdown",
   "metadata": {},
   "source": [
    "7. A palindrome is a string that reads the same backward as forward. For example, the words dad,\n",
    "madam and radar are all palindromes. Write a programs that determines whether the string is a\n",
    "palindrome.\n",
    "Note: do not use reverse() method \n",
    "\n"
   ]
  },
  {
   "cell_type": "code",
   "execution_count": 3,
   "metadata": {},
   "outputs": [
    {
     "name": "stdout",
     "output_type": "stream",
     "text": [
      "reehahs\n"
     ]
    }
   ],
   "source": [
    "a = input(\"Enter something here: \")\n",
    "\n",
    "    #shaheer\n",
    "print(a[::-1])\n",
    "    \n",
    "# print(a[-1::-2])  #s-->jumping by 2 backward from the end of the string\n",
    "# print(a[0::-2])  #starting from s-->jumping by 2 backward from the starting0 of the string"
   ]
  },
  {
   "cell_type": "code",
   "execution_count": 5,
   "metadata": {},
   "outputs": [
    {
     "name": "stdout",
     "output_type": "stream",
     "text": [
      "dad is a palindrome\n"
     ]
    }
   ],
   "source": [
    "a = input(\"Enter something here: \")\n",
    "if a == a[::-1]:\n",
    "    print(f'{a} is a palindrome')\n",
    "else:\n",
    "    print(f'{a} is not a palindrome')"
   ]
  },
  {
   "cell_type": "markdown",
   "metadata": {},
   "source": [
    "8. Write a program that display following output:\n",
    "SHIFT\n",
    "HIFTS\n",
    "IFTSH\n",
    "FTSHI\n",
    "TSHIF\n",
    "SHIFT \n"
   ]
  },
  {
   "cell_type": "code",
   "execution_count": 12,
   "metadata": {},
   "outputs": [
    {
     "name": "stdout",
     "output_type": "stream",
     "text": [
      "SHIFT\n",
      "HIFTS\n",
      "IFTSH\n",
      "FTSHI\n",
      "TSHIF\n",
      "SHIFT\n"
     ]
    }
   ],
   "source": [
    "a = \"SHIFT\"\n",
    "print(a)\n",
    "print(a[1:] + a[0])\n",
    "print(a[2:] + a[0:2])\n",
    "print(a[3:] + a[:3])\n",
    "print(a[4] + a[:4])\n",
    "print(a)"
   ]
  },
  {
   "cell_type": "markdown",
   "metadata": {},
   "source": [
    " 9. Write a program in python that accepts a string to setup a passwords. Your entered password must\n",
    "meet the following requirements:\n",
    "The password must be at least eight characters long.\n",
    "It must contain at least one uppercase letter.\n",
    "It must contain at least one lowercase letter.\n",
    "It must contain at least one numeric digit.\n",
    "Your program should should perform this validation. "
   ]
  },
  {
   "cell_type": "code",
   "execution_count": 37,
   "metadata": {},
   "outputs": [
    {
     "name": "stdout",
     "output_type": "stream",
     "text": [
      "Your password is: Shaheerjamal0\n"
     ]
    }
   ],
   "source": [
    "pwd = input(\"Enter the password here: \")\n",
    "a_upper = False\n",
    "a_lower = False\n",
    "a_digit = False\n",
    "if len(pwd) >= 8:\n",
    "    for i in pwd:\n",
    "        if i.isupper():\n",
    "            a_upper = True\n",
    "            \n",
    "        if i.islower():\n",
    "            a_lower = True\n",
    "              \n",
    "        if i.isdigit():\n",
    "            a_digit = True\n",
    " \n",
    "    if a_upper and  a_lower and a_digit:\n",
    "        print(f\"Your password is: {pwd}\")\n",
    "    else:\n",
    "        print(\"Error: Password should have at least one uppercase letter, one lowercase letter and one digit\")\n",
    "else:\n",
    "    print(\"Error: Password should be at least 8 characters long\")"
   ]
  }
 ],
 "metadata": {
  "kernelspec": {
   "display_name": "Python 3",
   "language": "python",
   "name": "python3"
  },
  "language_info": {
   "codemirror_mode": {
    "name": "ipython",
    "version": 3
   },
   "file_extension": ".py",
   "mimetype": "text/x-python",
   "name": "python",
   "nbconvert_exporter": "python",
   "pygments_lexer": "ipython3",
   "version": "3.13.2"
  }
 },
 "nbformat": 4,
 "nbformat_minor": 2
}
