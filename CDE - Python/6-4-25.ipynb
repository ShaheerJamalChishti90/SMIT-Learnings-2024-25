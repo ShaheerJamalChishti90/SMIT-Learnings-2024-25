{
 "cells": [
  {
   "cell_type": "markdown",
   "metadata": {},
   "source": [
    "While Loop"
   ]
  },
  {
   "cell_type": "code",
   "execution_count": null,
   "metadata": {},
   "outputs": [],
   "source": [
    "i = 0\n",
    "while i < 10:\n",
    "    print(i)\n",
    "    i += 1"
   ]
  },
  {
   "cell_type": "code",
   "execution_count": null,
   "metadata": {},
   "outputs": [],
   "source": [
    "userinput = \"\"\n",
    "cities = []\n",
    "while userinput is \"q\":\n",
    "    userinput = input(\"Enter a city name here: \")\n",
    "    if (userinput is \"q\") or (userinput is \"0\"):\n",
    "        cities.append(userinput)\n",
    "        print(userinput, \"\\n\")\n",
    "    "
   ]
  },
  {
   "cell_type": "code",
   "execution_count": null,
   "metadata": {},
   "outputs": [],
   "source": [
    "ui = \"\"\n",
    "cities = []\n",
    "\n",
    "while ui != \"q\" and ui != \"0\":\n",
    "    ui = input(\"Enter something here: \")\n",
    "    \n",
    "    if (ui != \"q\") or (ui != \"0\"):\n",
    "        cities.append(ui)\n",
    "        print(f\"This is the User Input: {ui}\")\n",
    "\n",
    "print(f'This is the list of cities entered by the user: {cities}')"
   ]
  },
  {
   "cell_type": "markdown",
   "metadata": {},
   "source": [
    "Classes (OOPs)"
   ]
  },
  {
   "cell_type": "code",
   "execution_count": null,
   "metadata": {},
   "outputs": [],
   "source": [
    "class Animal:\n",
    "    def __init__(self, name, bred, species):\n",
    "        self.name = name\n",
    "        self.bred = bred\n",
    "        self.species = species\n",
    "        \n",
    "class Dog(Animal):\n",
    "    name = \"Bruno\"\n",
    "    bred = \"Cane Corso\"\n",
    "    species = \"4 Legs\"\n",
    "\n",
    "my_dog = Animal(\"Bruno\", \"Cance Corso\", \"4 Legs\")\n",
    "print(my_dog.name)        \n"
   ]
  },
  {
   "cell_type": "code",
   "execution_count": null,
   "metadata": {},
   "outputs": [],
   "source": [
    "class saylani:\n",
    "    def __init__(self, name, course, rollno: int):\n",
    "        self.name = name\n",
    "        self.course = course\n",
    "        self.rollno = rollno\n",
    "        \n",
    "    def sent(name, course, rollno):\n",
    "        print(f\"{name} is learning {course} atSMIT\")        \n",
    "\n",
    "\n",
    "# batch02 = saylani(\"Shaheer Jamal\", 90)\n",
    "# print(batch02.name, batch02.rollno)\n",
    "    "
   ]
  },
  {
   "cell_type": "markdown",
   "metadata": {},
   "source": [
    "File Handling\n"
   ]
  },
  {
   "cell_type": "code",
   "execution_count": null,
   "metadata": {},
   "outputs": [],
   "source": [
    "with open(\"Shaheer.txt\", \"a\") as f:\n",
    "    f.write(\"\\nHello, This is Affan Zubair\")\n",
    "#     f.close()\n",
    "    \n",
    "# with open(\"Saylani.csv\", \"x\") as file:\n",
    "#     print(\"The file has been created successfully\")\n",
    "    \n",
    "    \n",
    "#Whats the difference btwn readline and readlines?\n",
    "\n",
    "#Readline: it reads lines \"line-by-line\", first its gonna read the first line, after printing it second time, its gonna print the second line\n",
    "#Readlins: it print all the lines at once, but it stores them in a list"
   ]
  },
  {
   "cell_type": "code",
   "execution_count": null,
   "metadata": {},
   "outputs": [],
   "source": [
    "#Learning OS Module\n",
    "import os\n",
    "os.remove(\"sample.py\") #removing the sample file from the local machine\n"
   ]
  },
  {
   "cell_type": "code",
   "execution_count": null,
   "metadata": {},
   "outputs": [],
   "source": [
    "# os.listdir() \n",
    "# for i in f:\n",
    "#     print(len())"
   ]
  },
  {
   "cell_type": "markdown",
   "metadata": {},
   "source": [
    "learning Error Handling:"
   ]
  },
  {
   "cell_type": "code",
   "execution_count": 31,
   "metadata": {},
   "outputs": [
    {
     "name": "stdout",
     "output_type": "stream",
     "text": [
      "Error! This is a Value Error: invalid literal for int() with base 10: '64sf54sd65f'\n",
      "Thankyou for using our code!\n"
     ]
    }
   ],
   "source": [
    "try:\n",
    "    a = int(input(\"Enter a here: \"))\n",
    "    b = int(input(\"Enter b here: \"))\n",
    "    \n",
    "except ValueError as ve:\n",
    "    print(f\"Error! This is a Value Error: {ve}\")\n",
    "\n",
    "except SyntaxError as se:\n",
    "    print(f\"Syntax Error, Give the proper syntax to it! {se}\")\n",
    "\n",
    "except Exception as e:\n",
    "    print(f\"Exception error! {e}\")\n",
    "\n",
    "else:\n",
    "    print(a + b)\n",
    "    \n",
    "finally:\n",
    "    print(\"Thankyou for using our code!\")    "
   ]
  }
 ],
 "metadata": {
  "kernelspec": {
   "display_name": "Python 3",
   "language": "python",
   "name": "python3"
  },
  "language_info": {
   "codemirror_mode": {
    "name": "ipython",
    "version": 3
   },
   "file_extension": ".py",
   "mimetype": "text/x-python",
   "name": "python",
   "nbconvert_exporter": "python",
   "pygments_lexer": "ipython3",
   "version": "3.13.3"
  }
 },
 "nbformat": 4,
 "nbformat_minor": 2
}
