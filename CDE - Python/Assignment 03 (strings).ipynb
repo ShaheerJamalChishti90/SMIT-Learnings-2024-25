{
 "cells": [
  {
   "cell_type": "markdown",
   "metadata": {},
   "source": [
    "1. Write a program that accepts a string from user. Your program should count and display number of\n",
    "vowels in that string. "
   ]
  },
  {
   "cell_type": "code",
   "execution_count": null,
   "metadata": {},
   "outputs": [],
   "source": []
  },
  {
   "cell_type": "markdown",
   "metadata": {},
   "source": [
    " 2. Write a program that reads a string from keyboard and display:\n",
    "* The number of uppercase letters in the string\n",
    "* The number of lowercase letters in the string\n",
    "* The number of digits in the string\n",
    "* The number of whitespace characters in the string s = input(\"Enter a string: \")\n",
    "\n",
    "uppercase_count = sum(1 for char in s if char.isupper())\n",
    "lowercase_count = sum(1 for char in s if char.islower())\n",
    "digit_count = sum(1 for char in s if char.isdigit())\n",
    "whitespace_count = sum(1 for char in s if char.isspace())\n",
    "\n",
    "print(\"Number of uppercase letters:\", uppercase_count)\n",
    "print(\"Number of lowercase letters:\", lowercase_count)\n",
    "print(\"Number of digits:\", digit_count)\n",
    "print(\"Number of whitespace characters:\", whitespace_count)"
   ]
  },
  {
   "cell_type": "markdown",
   "metadata": {},
   "source": [
    "3. Write a Python program that accepts a string from user. Your program should create and display a\n",
    "new string where the first and last characters have been exchanged.\n",
    "For example if the user enters the string 'HELLO' then new string would be 'OELLH'"
   ]
  },
  {
   "cell_type": "code",
   "execution_count": 1,
   "metadata": {},
   "outputs": [
    {
     "name": "stdout",
     "output_type": "stream",
     "text": [
      "reehahs\n"
     ]
    }
   ],
   "source": [
    "user = input(\"Enter a string: \")\n",
    "rev = \"\"\n",
    "for i in user:\n",
    "    rev = i + rev\n",
    "print(rev)"
   ]
  },
  {
   "cell_type": "markdown",
   "metadata": {},
   "source": [
    "5. Write a Python program that accepts a string from user. Your program should create a new string by\n",
    "shifting one position to left.\n",
    "For example if the user enters the string 'examination 2021' then new string would be 'xamination\n",
    "2021e'"
   ]
  },
  {
   "cell_type": "code",
   "execution_count": 2,
   "metadata": {},
   "outputs": [
    {
     "name": "stdout",
     "output_type": "stream",
     "text": [
      "String after shifting one position to left: haheers\n"
     ]
    }
   ],
   "source": [
    "user_string = input(\"Enter a string: \")\n",
    "\n",
    "if user_string:\n",
    "    new_string = user_string[1:] + user_string[0]\n",
    "else:\n",
    "    new_string = user_string\n",
    "    \n",
    "\n",
    "print(f\"String after shifting one position to left: {new_string}\")"
   ]
  },
  {
   "cell_type": "markdown",
   "metadata": {},
   "source": [
    " 6. Write a program that asks the user to input his name and print its initials. Assuming that the user\n",
    "always types first name, middle name and last name and does not include any unnecessary spaces.\n",
    "For example, if the user enters Ajay Kumar Garg the program should display A. K. G.\n",
    "Note:Don't use split() method \n"
   ]
  },
  {
   "cell_type": "code",
   "execution_count": null,
   "metadata": {},
   "outputs": [],
   "source": [
    "username = input(\"Enter a username: \")\n",
    "\n"
   ]
  },
  {
   "cell_type": "code",
   "execution_count": null,
   "metadata": {},
   "outputs": [
    {
     "ename": "TypeError",
     "evalue": "'int' object is not iterable",
     "output_type": "error",
     "traceback": [
      "\u001b[31m---------------------------------------------------------------------------\u001b[39m",
      "\u001b[31mTypeError\u001b[39m                                 Traceback (most recent call last)",
      "\u001b[36mCell\u001b[39m\u001b[36m \u001b[39m\u001b[32mIn[5]\u001b[39m\u001b[32m, line 5\u001b[39m\n\u001b[32m      3\u001b[39m \u001b[38;5;28;01mfor\u001b[39;00m i \u001b[38;5;129;01min\u001b[39;00m \u001b[38;5;28mrange\u001b[39m(\u001b[32m1\u001b[39m, \u001b[32m6\u001b[39m):\n\u001b[32m      4\u001b[39m     a = \u001b[38;5;28mint\u001b[39m(\u001b[38;5;28minput\u001b[39m(\u001b[33m\"\u001b[39m\u001b[33mEnter a number: \u001b[39m\u001b[33m\"\u001b[39m))\n\u001b[32m----> \u001b[39m\u001b[32m5\u001b[39m     \u001b[38;5;28mprint\u001b[39m(\u001b[38;5;28;43msum\u001b[39;49m\u001b[43m(\u001b[49m\u001b[43ma\u001b[49m\u001b[43m)\u001b[49m)\n",
      "\u001b[31mTypeError\u001b[39m: 'int' object is not iterable"
     ]
    }
   ],
   "source": []
  }
 ],
 "metadata": {
  "kernelspec": {
   "display_name": "Python 3",
   "language": "python",
   "name": "python3"
  },
  "language_info": {
   "codemirror_mode": {
    "name": "ipython",
    "version": 3
   },
   "file_extension": ".py",
   "mimetype": "text/x-python",
   "name": "python",
   "nbconvert_exporter": "python",
   "pygments_lexer": "ipython3",
   "version": "3.13.2"
  }
 },
 "nbformat": 4,
 "nbformat_minor": 2
}
