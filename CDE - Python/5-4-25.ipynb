{
 "cells": [
  {
   "cell_type": "markdown",
   "metadata": {},
   "source": [
    "Recalling Dictionaies"
   ]
  },
  {
   "cell_type": "code",
   "execution_count": 1,
   "metadata": {},
   "outputs": [
    {
     "data": {
      "text/plain": [
       "'Shaheer'"
      ]
     },
     "execution_count": 1,
     "metadata": {},
     "output_type": "execute_result"
    }
   ],
   "source": [
    "data = {\n",
    "    \"fname\": \"Shaheer\",\n",
    "    \"lname\": \"Jamal\",\n",
    "    \"age\": 19,\n",
    "    \"weight\":55\n",
    "}\n",
    "\n",
    "data[\"fname\"]"
   ]
  },
  {
   "cell_type": "code",
   "execution_count": null,
   "metadata": {},
   "outputs": [
    {
     "name": "stdout",
     "output_type": "stream",
     "text": [
      "fname ['fname']\n",
      "lname ['fname']\n",
      "age ['fname']\n",
      "weight ['fname']\n",
      "education ['fname']\n",
      "number ['fname']\n"
     ]
    }
   ],
   "source": []
  },
  {
   "cell_type": "code",
   "execution_count": 4,
   "metadata": {},
   "outputs": [
    {
     "name": "stdout",
     "output_type": "stream",
     "text": [
      "{'fname': 'Shaheer', 'lname': 'Jamal', 'age': 19, 'weight': 55, 'education': 'Bachelors'}\n"
     ]
    }
   ],
   "source": [
    "#Adding a new key value pair in dictionary\n",
    "data[\"education\"] = \"Bachelors\"\n",
    "print(data)\n"
   ]
  },
  {
   "cell_type": "code",
   "execution_count": 6,
   "metadata": {},
   "outputs": [
    {
     "name": "stdout",
     "output_type": "stream",
     "text": [
      "{'fname': 'Shaheer', 'lname': 'Jamal', 'age': 19, 'weight': 60, 'education': 'Bachelors'}\n"
     ]
    }
   ],
   "source": [
    "#Updating any value in a dictionary\n",
    "data[\"weight\"] = 60\n",
    "print(data)"
   ]
  },
  {
   "cell_type": "markdown",
   "metadata": {},
   "source": [
    "Accessing any value of the pair of any Key"
   ]
  },
  {
   "cell_type": "code",
   "execution_count": 7,
   "metadata": {},
   "outputs": [],
   "source": [
    "data[\"number\"] = ['012345', \"56789\"]"
   ]
  },
  {
   "cell_type": "code",
   "execution_count": 8,
   "metadata": {},
   "outputs": [
    {
     "name": "stdout",
     "output_type": "stream",
     "text": [
      "012345\n"
     ]
    }
   ],
   "source": [
    "print(data[\"number\"][0])"
   ]
  },
  {
   "cell_type": "code",
   "execution_count": 10,
   "metadata": {},
   "outputs": [
    {
     "name": "stdout",
     "output_type": "stream",
     "text": [
      "6\n"
     ]
    }
   ],
   "source": [
    "# lenght = 0 \n",
    "# for i in data:\n",
    "#     lenght += 1\n",
    "\n",
    "# print(lenght)\n",
    "\n",
    "print(len(data))"
   ]
  },
  {
   "cell_type": "code",
   "execution_count": null,
   "metadata": {},
   "outputs": [
    {
     "name": "stdout",
     "output_type": "stream",
     "text": [
      "4\n"
     ]
    }
   ],
   "source": [
    "#Nothing Important: Just for the sake of Understanding\n",
    "x = 2\n",
    "y = 9\n",
    "\n",
    "a = int(y/x)\n",
    "print(a)"
   ]
  },
  {
   "cell_type": "code",
   "execution_count": 14,
   "metadata": {},
   "outputs": [
    {
     "name": "stdout",
     "output_type": "stream",
     "text": [
      "Shaheer\n"
     ]
    }
   ],
   "source": [
    "# There are two ways to access a value in a dictionary\n",
    "\n",
    "data[\"fname\"] #This is the 1st Method\n",
    "\n",
    "for i in data: #This is the 2nd Method\n",
    "    if i == \"fname\":\n",
    "        print(data[i])        \n",
    "    "
   ]
  },
  {
   "cell_type": "code",
   "execution_count": null,
   "metadata": {},
   "outputs": [],
   "source": [
    "#Learning Nested Dictionary\n",
    "\n",
    "main_data = \n"
   ]
  },
  {
   "cell_type": "markdown",
   "metadata": {},
   "source": [
    "Functions\n"
   ]
  },
  {
   "cell_type": "code",
   "execution_count": null,
   "metadata": {},
   "outputs": [
    {
     "name": "stdout",
     "output_type": "stream",
     "text": [
      "The square of 8 is 64\n"
     ]
    }
   ],
   "source": [
    "#Making a Square function!\n",
    "\n",
    "def square(x):\n",
    "    return x ** 2\n",
    "    \n",
    "number = int(input(\"Enter any number here: \"))\n",
    "a = square(number)\n",
    "\n",
    "print(f\"The square of {number} is {a}\")\n",
    "    "
   ]
  },
  {
   "cell_type": "code",
   "execution_count": null,
   "metadata": {},
   "outputs": [
    {
     "name": "stdout",
     "output_type": "stream",
     "text": [
      "The area of your circle is 50.2848\n"
     ]
    }
   ],
   "source": [
    "#Functions with default parameters\n",
    "\n",
    "def area(r, pi = 3.1428): #Here pi is the default paremeter with the hardcoded value set on it\n",
    "    return (pi)*(r)**2\n",
    "\n",
    "radius = int(input(\"Enter the radius of your Circle: \"))\n",
    "\n",
    "print(f\"The area of your circle is {area(radius)}\")\n"
   ]
  },
  {
   "cell_type": "code",
   "execution_count": 29,
   "metadata": {},
   "outputs": [
    {
     "name": "stdout",
     "output_type": "stream",
     "text": [
      "Here is the solution: 9\n"
     ]
    }
   ],
   "source": [
    "#Positional arguments in Funx\n",
    "\n",
    "def add(a, b, c = 1):\n",
    "    return a + b - c \n",
    "\n",
    "a = int(input(\"Enter a here: \"))\n",
    "b = int(input(\"Enter b here: \"))\n",
    "print(f\"Here is the solution: {add(a, b)}\")"
   ]
  },
  {
   "cell_type": "code",
   "execution_count": null,
   "metadata": {},
   "outputs": [],
   "source": [
    "def abc(a, b, **c):\n",
    "    for key, value in anything.items():\n",
    "        print(key, value)\n",
    "    return f\"The captian of the team is {captain} and the coach is {coach}\"\n",
    "\n",
    "print(abc(\"Shaheer\", \"Ishraq\"))"
   ]
  },
  {
   "cell_type": "code",
   "execution_count": null,
   "metadata": {},
   "outputs": [
    {
     "name": "stdout",
     "output_type": "stream",
     "text": [
      "Football has 11 players and 4 defenders\n"
     ]
    }
   ],
   "source": [
    "#Local vs Global Variables\n",
    "players = 11\n",
    "\n",
    "def football():\n",
    "    defenders = 4\n",
    "    print(f\"Football has {players} players and {defenders} defenders\")\n",
    "football()\n"
   ]
  },
  {
   "cell_type": "code",
   "execution_count": null,
   "metadata": {},
   "outputs": [
    {
     "ename": "NameError",
     "evalue": "name 'defenders' is not defined",
     "output_type": "error",
     "traceback": [
      "\u001b[31m---------------------------------------------------------------------------\u001b[39m",
      "\u001b[31mNameError\u001b[39m                                 Traceback (most recent call last)",
      "\u001b[36mCell\u001b[39m\u001b[36m \u001b[39m\u001b[32mIn[33]\u001b[39m\u001b[32m, line 2\u001b[39m\n\u001b[32m      1\u001b[39m players\n\u001b[32m----> \u001b[39m\u001b[32m2\u001b[39m \u001b[43mdefenders\u001b[49m\n",
      "\u001b[31mNameError\u001b[39m: name 'defenders' is not defined"
     ]
    }
   ],
   "source": []
  }
 ],
 "metadata": {
  "kernelspec": {
   "display_name": "Python 3",
   "language": "python",
   "name": "python3"
  },
  "language_info": {
   "codemirror_mode": {
    "name": "ipython",
    "version": 3
   },
   "file_extension": ".py",
   "mimetype": "text/x-python",
   "name": "python",
   "nbconvert_exporter": "python",
   "pygments_lexer": "ipython3",
   "version": "3.13.2"
  }
 },
 "nbformat": 4,
 "nbformat_minor": 2
}
