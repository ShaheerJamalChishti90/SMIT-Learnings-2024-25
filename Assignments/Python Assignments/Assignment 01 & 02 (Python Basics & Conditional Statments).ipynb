{
 "cells": [
  {
   "cell_type": "markdown",
   "metadata": {},
   "source": [
    "# Part -1 Python Basics (Variables)"
   ]
  },
  {
   "cell_type": "markdown",
   "metadata": {},
   "source": [
    "1. Print Your Name with your Father name and Date of birth using suitable escape sequence charactor"
   ]
  },
  {
   "cell_type": "code",
   "execution_count": 6,
   "metadata": {},
   "outputs": [
    {
     "name": "stdout",
     "output_type": "stream",
     "text": [
      "Student Name: Shaheer Jamal\n",
      "Father's Name: Ishraq Jamal\n",
      "Date of Birth: 09/03/2006\n"
     ]
    }
   ],
   "source": [
    "student_name = \"Shaheer Jamal\"\n",
    "fathers_name = \"Ishraq Jamal\"\n",
    "dob = \"09/03/2006\"\n",
    "\n",
    "print(f\"Student Name: {student_name}\\nFather's Name: {fathers_name}\\nDate of Birth: {dob}\")\n"
   ]
  },
  {
   "cell_type": "markdown",
   "metadata": {},
   "source": [
    "2. Write your small bio using variables and print it using print function"
   ]
  },
  {
   "cell_type": "code",
   "execution_count": 7,
   "metadata": {},
   "outputs": [
    {
     "name": "stdout",
     "output_type": "stream",
     "text": [
      "Assalamualaikum, My name is Shaheer Jamal. My father's name is Ishraq Jamal. I was born on 09/03/2006. I am learning Python.\n"
     ]
    }
   ],
   "source": [
    "n = \"Shaheer Jamal\"\n",
    "fn = \"Ishraq Jamal\"\n",
    "dob = \"09/03/2006\"\n",
    "language = \"Python\"\n",
    "print(f\"Assalamualaikum, My name is {n}. My father's name is {fn}. I was born on {dob}. I am learning {language}.\")\n"
   ]
  },
  {
   "cell_type": "markdown",
   "metadata": {},
   "source": [
    "3. Write a program in which use all the operators we can use in Python"
   ]
  },
  {
   "cell_type": "code",
   "execution_count": 11,
   "metadata": {},
   "outputs": [
    {
     "name": "stdout",
     "output_type": "stream",
     "text": [
      "Sum of 5 and 5 is 10\n",
      "Subtraction of 5 and 5 is 0\n",
      "Multiplication of 5 and 5 is 25\n",
      "Division of 5 and 5 is 1.0\n",
      "Modulus of 5 and 5 is 0\n",
      "Exponential of 5 and 5 is 3125\n"
     ]
    }
   ],
   "source": [
    "nx = int(input(\"Enter 1st number here: \"))\n",
    "ny = int(input(\"Enter 2nd number here: \"))\n",
    "\n",
    "print(f\"Sum of {nx} and {ny} is {nx + ny}\")\n",
    "print(f\"Subtraction of {nx} and {ny} is {nx - ny}\")\n",
    "print(f\"Multiplication of {nx} and {ny} is {nx * ny}\")\n",
    "print(f\"Division of {nx} and {ny} is {nx / ny}\")\n",
    "print(f\"Modulus of {nx} and {ny} is {nx % ny}\")\n",
    "print(f\"Exponential of {nx} and {ny} is {nx ** ny}\")\n",
    "\n",
    "\n"
   ]
  },
  {
   "cell_type": "markdown",
   "metadata": {},
   "source": [
    "4. Completes the following steps of small task:\n",
    "    - Mention Marks of English , Islamiat and Maths out of 100 in 3 different variables\n",
    "    - Mention Variable of Total Marks and assign 300 to it\n",
    "    - Calculate Percentage"
   ]
  },
  {
   "cell_type": "code",
   "execution_count": 14,
   "metadata": {},
   "outputs": [
    {
     "name": "stdout",
     "output_type": "stream",
     "text": [
      "Total Marks: 300\n",
      "Obtained Marks: 252\n",
      "Students percentage: 84.0%\n"
     ]
    }
   ],
   "source": [
    "maths = 78\n",
    "english = 85\n",
    "islamiat = 89\n",
    "\n",
    "total_marks = 300\n",
    "obtained_marks = maths + english + islamiat\n",
    "percentage = (obtained_marks / total_marks) * 100\n",
    "\n",
    "print(f\"Total Marks: {total_marks}\\nObtained Marks: {obtained_marks}\\nStudents percentage: {percentage}%\")"
   ]
  },
  {
   "cell_type": "markdown",
   "metadata": {},
   "source": [
    "# Part -2 Python Basics (Conditional Statements)"
   ]
  },
  {
   "cell_type": "markdown",
   "metadata": {},
   "source": [
    "1) A company decided to give bonus of 5% to employee if his/her year of service is more than 5 years.\n",
    "Ask user for their salary and year of service and print the net bonus amount."
   ]
  },
  {
   "cell_type": "code",
   "execution_count": null,
   "metadata": {},
   "outputs": [],
   "source": [
    "name = input(\"Enter your name: \")\n",
    "salary = int(input(\"Enter your salary: \"))\n",
    "yoe = int(input(\"Enter your years of experience: \"))\n",
    "if yoe > 5:\n",
    "    bonus = 0.05 * salary\n",
    "    print(f\"Congragulations {name}, Your bonus is incremented by 5%: {bonus}\")\n",
    "else:\n",
    "    print(f\"Sorry {name}, You are not eligible for bonus\")"
   ]
  },
  {
   "cell_type": "markdown",
   "metadata": {},
   "source": [
    "\n",
    "2) Write a program to check whether a person is eligible for voting or not. (accept age from user) if age is greater than 17 eligible otherwise not eligible"
   ]
  },
  {
   "cell_type": "code",
   "execution_count": null,
   "metadata": {},
   "outputs": [],
   "source": [
    "name = input(\"Enter your name: \")\n",
    "age = int(input(\"Enter your age: \"))\n",
    "\n",
    "if age >= 18:\n",
    "    print(f\"Congragulations {name}, You are eligible to vote\")\n",
    "else:\n",
    "    print(f\"Sorry {name}, You are not eligible to vote\")"
   ]
  },
  {
   "cell_type": "markdown",
   "metadata": {},
   "source": [
    "\n",
    "3) Write a program to check whether a number entered by user is even or odd."
   ]
  },
  {
   "cell_type": "code",
   "execution_count": null,
   "metadata": {},
   "outputs": [],
   "source": [
    "n = int(input(\"Enter the number here: \"))\n",
    "\n",
    "if n % 2 == 0:\n",
    "    print(f\"{n} is an even number\")\n",
    "else:\n",
    "    print(f\"{n} is an odd number\")"
   ]
  },
  {
   "cell_type": "markdown",
   "metadata": {},
   "source": [
    "4) Write a program to check whether a number is divisible by 7 or not.\n",
    "Show Answer"
   ]
  },
  {
   "cell_type": "code",
   "execution_count": 16,
   "metadata": {},
   "outputs": [
    {
     "name": "stdout",
     "output_type": "stream",
     "text": [
      "14 is divisible by 7\n"
     ]
    }
   ],
   "source": [
    "n = int(input(\"Enter the number here: \"))\n",
    "\n",
    "if n % 7 == 0:\n",
    "    print(f\"{n} is divisible by 7\")\n",
    "else:\n",
    "    print(f\"{n} is not divisible by 7\")"
   ]
  },
  {
   "cell_type": "markdown",
   "metadata": {},
   "source": [
    "5) Write a program to display \n",
    "\"Hello\" if a number entered by user is a multiple of five , otherwise print \"Bye\"."
   ]
  },
  {
   "cell_type": "code",
   "execution_count": 18,
   "metadata": {},
   "outputs": [
    {
     "name": "stdout",
     "output_type": "stream",
     "text": [
      "Bye\n"
     ]
    }
   ],
   "source": [
    "n = int(input(\"Enter the number here: \"))\n",
    "if n % 5 == 0:\n",
    "    print(\"Hello\")\n",
    "else:\n",
    "    print(\"Bye\")"
   ]
  },
  {
   "cell_type": "markdown",
   "metadata": {},
   "source": [
    "7) Write a program to display the last digit of a number.\n"
   ]
  },
  {
   "cell_type": "code",
   "execution_count": 19,
   "metadata": {},
   "outputs": [
    {
     "name": "stdout",
     "output_type": "stream",
     "text": [
      "The last digit of the number is: 1\n"
     ]
    }
   ],
   "source": [
    "n = int(input(\"Enter a big number here [eg:12345] : \"))\n",
    "\n",
    "slicing = str(n)\n",
    "print(f\"The last digit of the number is: {slicing[-1]}\")"
   ]
  },
  {
   "cell_type": "markdown",
   "metadata": {},
   "source": [
    "9) Take values of length and breadth of a rectangle from user and print if it is square or rectangle."
   ]
  },
  {
   "cell_type": "code",
   "execution_count": null,
   "metadata": {},
   "outputs": [],
   "source": [
    "ln = int(input(\"Enter the length of the shape: \"))\n",
    "br = int(input(\"Enter the breadth of the shape: \"))\n",
    "if ln == br:\n",
    "    print(\"It is a square\")\n",
    "else:\n",
    "    print(\"It is a rectangle\")"
   ]
  },
  {
   "cell_type": "markdown",
   "metadata": {},
   "source": [
    "10) Take two int values from user and print greatest among them."
   ]
  },
  {
   "cell_type": "code",
   "execution_count": null,
   "metadata": {},
   "outputs": [],
   "source": [
    "x = int(input(\"Enter the 1st number here: \"))\n",
    "y = int(input(\"Enter the 2nd number here: \"))\n",
    "\n",
    "if x!=y:\n",
    "    if x>y:\n",
    "        print(f\"{x} is greater than {y}\")\n",
    "    else:\n",
    "        print(f\"{y} is greater than {x}\")\n",
    "else:\n",
    "    print(\"Both numbers are equal\")\n",
    "    "
   ]
  },
  {
   "cell_type": "markdown",
   "metadata": {},
   "source": [
    "11) A shop will give discount of 10% if the cost of purchased quantity is more than 1000.\n",
    "Ask user for quantity\n",
    "Suppose, one unit will cost 100.\n",
    "Judge and print total cost for user."
   ]
  },
  {
   "cell_type": "code",
   "execution_count": 4,
   "metadata": {},
   "outputs": [
    {
     "name": "stdout",
     "output_type": "stream",
     "text": [
      "Total product quantity: 18\n",
      " The total price: 1800\n",
      " Discount amount: 180.0\n",
      " Total price after discount: 1620.0\n"
     ]
    }
   ],
   "source": [
    "total_quantity = int(input(\"Enter the total quantity of the product: \"))\n",
    "price = 100\n",
    "total_price = total_quantity * price\n",
    "discount = 0.1 #10/100\n",
    "discount_amount = total_price * discount\n",
    "\n",
    "if total_price > 1000:\n",
    "    print(f\"Total product quantity: {total_quantity}\\n\",\n",
    "          f\"The total price: {total_price}\\n\",\n",
    "          f\"Discount amount: {discount_amount}\\n\",\n",
    "          f\"Total price after discount: {total_price - discount_amount}\",)\n",
    "else:\n",
    "    print(f\"You are not eligible for discount. Your total price is less than 1000\")"
   ]
  },
  {
   "cell_type": "markdown",
   "metadata": {},
   "source": [
    "12) A school has following rules for grading system:\n",
    "\n",
    "a. Below 25 - F\n",
    "\n",
    "b. 25 to 45 - E\n",
    "\n",
    "c. 45 to 50 - D\n",
    "\n",
    "d. 50 to 60 - C\n",
    "\n",
    "e. 60 to 80 - B\n",
    "\n",
    "f. Above 80 - A\n",
    "\n",
    "Ask user to enter marks and print the corresponding grade."
   ]
  },
  {
   "cell_type": "code",
   "execution_count": 6,
   "metadata": {},
   "outputs": [
    {
     "name": "stdout",
     "output_type": "stream",
     "text": [
      "Grade: A\n"
     ]
    }
   ],
   "source": [
    "marks = int(input(\"Enter the marks here: \"))\n",
    "if marks > 80 and marks <= 100:\n",
    "    print(\"Grade: A\")\n",
    "elif marks >= 60 and marks <= 80:\n",
    "    print(\"Grade: B\")\n",
    "elif marks <= 60 and marks >= 50:\n",
    "    print(\"Grade: C\")\n",
    "elif marks >= 45 and marks <= 49:\n",
    "    print(\"Grade: D\")\n",
    "elif marks >= 25 and marks <= 44:\n",
    "    print(\"Grade: E\")\n",
    "elif marks > 25:\n",
    "    print(\"Grade: F\")\n",
    "else:\n",
    "    print(\"Invalid Input!\")\n",
    "    "
   ]
  },
  {
   "cell_type": "markdown",
   "metadata": {},
   "source": [
    "14)A student will not be allowed to sit in exam if his/her attendence is less than 75%.\n",
    "\n",
    "Take following input from user\n",
    "\n",
    "- Number of classes held\n",
    "\n",
    "- Number of classes attended.\n",
    "\n",
    "And print\n",
    "\n",
    "- percentage of class attended\n",
    "\n",
    "- Is student is allowed to sit in exam or not.\n"
   ]
  },
  {
   "cell_type": "code",
   "execution_count": 8,
   "metadata": {},
   "outputs": [
    {
     "name": "stdout",
     "output_type": "stream",
     "text": [
      "Attendance: 87.5%\n",
      "You are allowed to sit in the exam\n"
     ]
    }
   ],
   "source": [
    "class_held = 40\n",
    "class_attended = int(input(\"How many classes did you attended out of 40 classes? \"))\n",
    "\n",
    "attendance = (class_attended / class_held) * 100\n",
    "print(f\"Attendance: {attendance}%\")\n",
    "if attendance >= 75:\n",
    "    print(\"You are allowed to sit in the exam\")\n",
    "else:\n",
    "    print(\"You are not allowed to sit in the exam\")"
   ]
  },
  {
   "cell_type": "markdown",
   "metadata": {},
   "source": [
    "15) Modify the above question to allow student to sit if he/she has medical cause. Ask user if he/she has medical cause or not ( 'Y' or 'N' ) and print accordingly."
   ]
  },
  {
   "cell_type": "code",
   "execution_count": 10,
   "metadata": {},
   "outputs": [
    {
     "name": "stdout",
     "output_type": "stream",
     "text": [
      "Attendance: 30.0%\n",
      "You are allowed to sit in the exam\n"
     ]
    }
   ],
   "source": [
    "class_held = 40\n",
    "class_attended = int(input(\"How many classes did you attended out of 40 classes? \"))\n",
    "medical_cause = input(\"Do you have any medical cause? [yes/no] \").lower()\n",
    "\n",
    "attendance = (class_attended / class_held) * 100\n",
    "print(f\"Attendance: {attendance}%\")\n",
    "if attendance >= 75:\n",
    "    print(\"You are allowed to sit in the exam\")\n",
    "    \n",
    "elif attendance < 75:\n",
    "    if medical_cause == \"yes\":\n",
    "        print(\"You are allowed to sit in the exam\")\n",
    "else:\n",
    "    print(\"You are not allowed to sit in the exam\")"
   ]
  },
  {
   "cell_type": "markdown",
   "metadata": {},
   "source": [
    "16) Write a program to check if a year is leap year or not.\n",
    "\n",
    "If a year is divisible by 4 then it is leap year but if the year is century year like 2000, 1900, 2100 then it must be divisible by 400."
   ]
  },
  {
   "cell_type": "code",
   "execution_count": 20,
   "metadata": {},
   "outputs": [
    {
     "name": "stdout",
     "output_type": "stream",
     "text": [
      "This year is not a leap year\n"
     ]
    }
   ],
   "source": [
    "year = int(input(\"Enter the current year here: \"))\n",
    "if year % 4 == 0:\n",
    "    print(\"This year is a leap year\")\n",
    "else:\n",
    "    print(\"This year is not a leap year\")"
   ]
  },
  {
   "cell_type": "markdown",
   "metadata": {},
   "source": [
    "17) Ask user to enter age, gender ( M or F ), marital status ( Y or N ) and then using following rules print their place of service.\n",
    "\n",
    "if employee is female, then she will work only in urban areas.\n",
    "\n",
    "if employee is a male and age is in between 20 to 40 then he may work in anywhere\n",
    "\n",
    "if employee is male and age is in between 40 t0 60 then he will work in urban areas only.\n",
    "\n",
    "And any other input of age should print \"ERROR\""
   ]
  },
  {
   "cell_type": "code",
   "execution_count": 21,
   "metadata": {},
   "outputs": [
    {
     "name": "stdout",
     "output_type": "stream",
     "text": [
      "You'll only work in Urban Areas\n"
     ]
    }
   ],
   "source": [
    "age = int(input(\"Enter your age here: \"))\n",
    "gender = input(\"Enter your gender here[m/f]: \").lower()\n",
    "marital_status = input(\"Enter your marital status here[y/n]: \").lower()\n",
    "\n",
    "if gender == \"f\":\n",
    "    print(\"You'll only work in Urban Areas\")\n",
    "elif gender == \"m\":\n",
    "    if age >= 20 and age <= 40:\n",
    "        print(\"You can work anywhere\")\n",
    "elif age > 40 and age <= 60:\n",
    "    print(\"You'll only work in Urban Areas\")\n",
    "else:\n",
    "    print(\"ERROR!\")"
   ]
  },
  {
   "cell_type": "markdown",
   "metadata": {},
   "source": [
    "6) Write a program to calculate the electricity bill (accept number of unit from user) according to the following criteria :\n",
    "     Unit                                                     Price  \n",
    "uptp 100 units                                             no charge\n",
    "Next 200 units                                              Rs 5 per unit\n",
    "After 200 units                                             Rs 10 per unit\n",
    "(For example if input unit is 350 than total bill amount is Rs.3500\n",
    "(For example if input unit is 97 than total bill amount is Rs.0\n",
    "(For example if input unit is 150 than total bill amount is Rs.750"
   ]
  },
  {
   "cell_type": "markdown",
   "metadata": {},
   "source": [
    "13) Take input of age of 3 people by user and determine oldest and youngest among them."
   ]
  },
  {
   "cell_type": "code",
   "execution_count": 25,
   "metadata": {},
   "outputs": [
    {
     "name": "stdout",
     "output_type": "stream",
     "text": [
      "Charges: 750\n"
     ]
    }
   ],
   "source": [
    "bill_units = int(input(\"Enter the electricity bill units here: \"))\n",
    "\n",
    "if bill_units <= 100:\n",
    "    print(\"No Charges\")\n",
    "elif bill_units > 100 and bill_units <= 200:\n",
    "    print(f\"Charges: {bill_units * 5}\")\n",
    "elif bill_units > 200:\n",
    "    print(f\"Charges: {bill_units * 10}\")\n",
    "else:\n",
    "    print(\"Error\")"
   ]
  }
 ],
 "metadata": {
  "kernelspec": {
   "display_name": "Python 3",
   "language": "python",
   "name": "python3"
  },
  "language_info": {
   "codemirror_mode": {
    "name": "ipython",
    "version": 3
   },
   "file_extension": ".py",
   "mimetype": "text/x-python",
   "name": "python",
   "nbconvert_exporter": "python",
   "pygments_lexer": "ipython3",
   "version": "3.12.4"
  }
 },
 "nbformat": 4,
 "nbformat_minor": 4
}
