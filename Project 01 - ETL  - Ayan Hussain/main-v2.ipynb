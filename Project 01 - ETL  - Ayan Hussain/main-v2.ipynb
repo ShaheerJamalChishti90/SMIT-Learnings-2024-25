{
 "cells": [
  {
   "cell_type": "code",
   "execution_count": 61,
   "id": "15fdcacb",
   "metadata": {},
   "outputs": [],
   "source": [
    "import requests\n",
    "from bs4 import BeautifulSoup\n",
    "import pandas as pd\n",
    "from datetime import datetime\n",
    "from io import StringIO"
   ]
  },
  {
   "cell_type": "code",
   "execution_count": 62,
   "id": "af82c928",
   "metadata": {},
   "outputs": [],
   "source": [
    "def fetch_data(url):\n",
    "    response = requests.get(url)\n",
    "    response.raise_for_status()  # Raise an error for bad responses\n",
    "    return response.text\n",
    "web_url = \"https://web.archive.org/web/20230908091635/https://en.wikipedia.org/wiki/List_of_largest_banks\"\n",
    "# fetch_data(web_url)"
   ]
  },
  {
   "cell_type": "markdown",
   "id": "7f8ed26c",
   "metadata": {},
   "source": [
    "# Logs"
   ]
  },
  {
   "cell_type": "code",
   "execution_count": 63,
   "id": "1e299883",
   "metadata": {},
   "outputs": [],
   "source": [
    "def log_message(message):\n",
    "    with open(\"./logs/Code_Logs.txt\", \"a\") as f:\n",
    "        f.write(f\"{datetime.now()}: {message}\\n\")"
   ]
  },
  {
   "cell_type": "markdown",
   "id": "50452d8c",
   "metadata": {},
   "source": [
    "# Extract"
   ]
  },
  {
   "cell_type": "code",
   "execution_count": 64,
   "id": "11d9ed5e",
   "metadata": {},
   "outputs": [
    {
     "name": "stderr",
     "output_type": "stream",
     "text": [
      "C:\\Users\\CORECOM\\AppData\\Local\\Temp\\ipykernel_7480\\991806852.py:5: FutureWarning: Passing literal html to 'read_html' is deprecated and will be removed in a future version. To read from a literal string, wrap it in a 'StringIO' object.\n",
      "  df = pd.read_html(str(table))[0]\n"
     ]
    }
   ],
   "source": [
    "def extract():\n",
    "    url = \"https://web.archive.org/web/20230908091635/https://en.wikipedia.org/wiki/List_of_largest_banks\"\n",
    "    soup = BeautifulSoup(fetch_data(url), 'lxml')\n",
    "    table = soup.find('span', string=\"By market capitalization\").find_next('table')\n",
    "    df = pd.read_html(str(table))[0]\n",
    "    log_message(\"Data has been extracted successfully.\")\n",
    "    return df\n",
    "org_df = extract()"
   ]
  },
  {
   "cell_type": "markdown",
   "id": "e4f41d19",
   "metadata": {},
   "source": [
    "# Transform"
   ]
  },
  {
   "cell_type": "code",
   "execution_count": 65,
   "id": "3fdec733",
   "metadata": {},
   "outputs": [],
   "source": [
    "# currency_rates = pd.read_csv(\"input/currency_rate.csv\")\n",
    "\n",
    "# for _, row in currency_rates.iterrows():\n",
    "#     currency = row['currency'].upper()\n",
    "#     rate = row['rate']\n",
    "#     org_df[f'Market cap ({currency})'] = org_df['Market cap (US$ billion)'] * rate\n",
    "# print(org_df)\n",
    "\n",
    "# org_df.to_csv(\"largest_banks_with_currency_conversions.csv\", index=False)"
   ]
  },
  {
   "cell_type": "code",
   "execution_count": 66,
   "id": "f87d6f92",
   "metadata": {},
   "outputs": [],
   "source": [
    "def transform(df, csv_path):\n",
    "    exchange_rate = pd.read_csv(csv_path, index_col=0).to_dict()[\"rate\"]\n",
    "    # print(exchange_rate)\n",
    "    \n",
    "    df[\"Market cap (PKR billion)s\"] = df[\"Market cap (US$ billion)\"] * exchange_rate[\"pkr\"]\n",
    "    df[\"Market cap (INR billion)s\"] = df[\"Market cap (US$ billion)\"] * exchange_rate[\"inr\"]\n",
    "    df[\"Market cap (GBP billion)s\"] = df[\"Market cap (US$ billion)\"] * exchange_rate[\"gbp\"]\n",
    "    df[\"Market cap (EUR billion)s\"] = df[\"Market cap (US$ billion)\"] * exchange_rate[\"eur\"]\n",
    "    log_message(\"Data has been transformed successfully.\") \n",
    "    return df\n",
    "# transform(org_df, './input/currency_rate.csv')"
   ]
  },
  {
   "cell_type": "markdown",
   "id": "16fcabfc",
   "metadata": {},
   "source": [
    "# Load"
   ]
  },
  {
   "cell_type": "code",
   "execution_count": 67,
   "id": "03c460ba",
   "metadata": {},
   "outputs": [],
   "source": [
    "# def load():\n",
    "#     data = pd.DataFrame(transform(org_df, './input/currency_rate.csv'))\n",
    "#     data.to_csv(\"./output/American_Banks.csv\", index=False, encoding=\"utf-8\")\n",
    "#     return f\"Data has been successfully load!\""
   ]
  },
  {
   "cell_type": "code",
   "execution_count": 68,
   "id": "8cd16be5",
   "metadata": {},
   "outputs": [],
   "source": [
    "def load(df, output_csv_path):\n",
    "    df.to_csv(output_csv_path)\n",
    "    \n",
    "    log_message(\"Data has been loaded successfully.\")\n",
    "    return None\n",
    "    "
   ]
  },
  {
   "cell_type": "code",
   "execution_count": 69,
   "id": "1f09c602",
   "metadata": {},
   "outputs": [
    {
     "name": "stderr",
     "output_type": "stream",
     "text": [
      "C:\\Users\\CORECOM\\AppData\\Local\\Temp\\ipykernel_7480\\991806852.py:5: FutureWarning: Passing literal html to 'read_html' is deprecated and will be removed in a future version. To read from a literal string, wrap it in a 'StringIO' object.\n",
      "  df = pd.read_html(str(table))[0]\n"
     ]
    }
   ],
   "source": [
    "if __name__ == \"__main__\":\n",
    "    \n",
    "    url = \"https://web.archive.org/web/20230908091635/https://en.wikipedia.org/wiki/List_of_largest_banks\"\n",
    "    csv_path = \"./input/currency_rate.csv\"\n",
    "    output_csv_path = \"./output/American_Banks.csv\"\n",
    "    \n",
    "    df = extract()\n",
    "    df = transform(df, csv_path)\n",
    "    load(df, output_csv_path)\n",
    "    # df = load()\n",
    "\n",
    "    \n",
    "    "
   ]
  },
  {
   "cell_type": "code",
   "execution_count": null,
   "id": "487a41d6",
   "metadata": {},
   "outputs": [],
   "source": []
  }
 ],
 "metadata": {
  "kernelspec": {
   "display_name": "Python 3",
   "language": "python",
   "name": "python3"
  },
  "language_info": {
   "codemirror_mode": {
    "name": "ipython",
    "version": 3
   },
   "file_extension": ".py",
   "mimetype": "text/x-python",
   "name": "python",
   "nbconvert_exporter": "python",
   "pygments_lexer": "ipython3",
   "version": "3.12.4"
  }
 },
 "nbformat": 4,
 "nbformat_minor": 5
}
