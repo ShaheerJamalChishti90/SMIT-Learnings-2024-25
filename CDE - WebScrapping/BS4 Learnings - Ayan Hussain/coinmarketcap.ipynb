{
 "cells": [
  {
   "cell_type": "code",
   "execution_count": 102,
   "id": "47418dd4",
   "metadata": {},
   "outputs": [],
   "source": [
    "from bs4 import BeautifulSoup\n",
    "import requests"
   ]
  },
  {
   "cell_type": "code",
   "execution_count": 103,
   "id": "c4f214bc",
   "metadata": {},
   "outputs": [],
   "source": [
    "url = \"https://coinmarketcap.com/\"\n",
    "request = requests.get(url).content\n",
    "soup = BeautifulSoup(request, \"lxml\")"
   ]
  },
  {
   "cell_type": "code",
   "execution_count": 104,
   "id": "646b3829",
   "metadata": {},
   "outputs": [],
   "source": [
    "# all_rows = soup.find_all(\"tr\", class_=\"cursor-pointer\")\n",
    "# for row in all_rows:\n",
    "#     name = row.find(\"p\", class_=\"\").text.strip()\n",
    "#     price = row.find(\"div\", class_=\"\").text.strip()\n",
    "#     market_cap = row.find(\"p\", class_=\"sc-16z8y2g-0 gkqWnZ\").text.strip()\n",
    "#     print(f\"Name: {name}, Price: {price}, Market Cap: {market_cap}\")"
   ]
  },
  {
   "cell_type": "code",
   "execution_count": null,
   "id": "c6b6f47f",
   "metadata": {},
   "outputs": [],
   "source": [
    "table = soup.find(\"table\", {\"class\":\"sc-db1da501-3 ccGPRR cmc-table\"})\n",
    "\n",
    "rank = table.find(\"p\", class_=\"sc-71024e3e-0 biekbf\")\n",
    "name = table.find(\"p\", class_=\"sc-65e7f566-0 iPbTJf coin-item-name\").text.strip()\n",
    "price = table.find(\"div\", {\"class\":\"sc-142c02c-0 lmjbLF\"})\n",
    "# hour1 = table.find(\"div\", class_=\"sc-142c02c-0 lmjbLF\").text.strip()\n",
    "# hour24 = table.find(\"div\", class_=\"sc-142c02c-0 lmjbLF\").text.strip()\n",
    "# day7 = table.find(\"div\", class_=\"sc-142c02c-0 lmjbLF\").text.strip()\n",
    "# market_cap = table.find(\"p\", class_=\"sc-142c02c-0 lmjbLF\").text.strip()\n",
    "# coin_volume = table.find(\"p\", class_=\"sc-142c02c-0 lmjbLF\").text.strip()\n"
   ]
  },
  {
   "cell_type": "code",
   "execution_count": 111,
   "id": "e42fc042",
   "metadata": {},
   "outputs": [
    {
     "name": "stdout",
     "output_type": "stream",
     "text": [
      "Bitcoin\n",
      "$95,935.07\n"
     ]
    }
   ],
   "source": [
    "# print(rank.strip())\n",
    "print(name.strip())\n",
    "print(price.text.strip())"
   ]
  },
  {
   "cell_type": "code",
   "execution_count": null,
   "id": "56f9d4ad",
   "metadata": {},
   "outputs": [],
   "source": []
  }
 ],
 "metadata": {
  "kernelspec": {
   "display_name": "Python 3",
   "language": "python",
   "name": "python3"
  },
  "language_info": {
   "codemirror_mode": {
    "name": "ipython",
    "version": 3
   },
   "file_extension": ".py",
   "mimetype": "text/x-python",
   "name": "python",
   "nbconvert_exporter": "python",
   "pygments_lexer": "ipython3",
   "version": "3.12.4"
  }
 },
 "nbformat": 4,
 "nbformat_minor": 5
}
