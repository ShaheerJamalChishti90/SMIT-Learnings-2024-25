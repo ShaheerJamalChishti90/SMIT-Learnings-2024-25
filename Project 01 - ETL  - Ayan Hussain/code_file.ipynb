{
 "cells": [
  {
   "cell_type": "code",
   "execution_count": 3,
   "id": "aecf645a",
   "metadata": {},
   "outputs": [],
   "source": [
    "import requests\n",
    "from bs4 import BeautifulSoup\n",
    "import pandas as pd\n",
    "from datetime import datetime\n",
    "from io import StringIO"
   ]
  },
  {
   "cell_type": "markdown",
   "id": "b51c5a66",
   "metadata": {},
   "source": [
    "# Logs"
   ]
  },
  {
   "cell_type": "code",
   "execution_count": 4,
   "id": "35f5cc0a",
   "metadata": {},
   "outputs": [],
   "source": [
    "def log_message(message):\n",
    "    with open(\"./logs/Code_Logs.txt\", \"a\") as f:\n",
    "        f.write(f\"{datetime.now()}: {message}\\n\")"
   ]
  },
  {
   "cell_type": "markdown",
   "id": "050ff434",
   "metadata": {},
   "source": []
  },
  {
   "cell_type": "markdown",
   "id": "a3cd99fa",
   "metadata": {},
   "source": [
    "# Extract"
   ]
  },
  {
   "cell_type": "code",
   "execution_count": 5,
   "id": "0541dc4b",
   "metadata": {},
   "outputs": [],
   "source": [
    "url = \"https://web.archive.org/web/20230908091635/https://en.wikipedia.org/wiki/List_of_largest_banks\"\n",
    "page = requests.get(url).content\n",
    "soup = BeautifulSoup(page, \"html.parser\")"
   ]
  },
  {
   "cell_type": "code",
   "execution_count": 6,
   "id": "f9d0ca74",
   "metadata": {},
   "outputs": [],
   "source": [
    "# tables = soup.find(\"span\", {\"class\": \"mw-headline\"}).find_next(\"table\", {\"class\": \"wikitable\"})\n",
    "table = soup.find(\"div\", {\"class\": \"mw-parser-output\"}).find_next(\"table\", {\"class\": \"wikitable\"})\n",
    "for header in table:\n",
    "    th = header.find(\"thead\")\n",
    "th\n",
    "# for rows in table:\n",
    "    "
   ]
  },
  {
   "cell_type": "code",
   "execution_count": 7,
   "id": "c35702d0",
   "metadata": {},
   "outputs": [
    {
     "data": {
      "text/plain": [
       "<table class=\"wikitable sortable mw-collapsible\">\n",
       "<tbody><tr>\n",
       "<th data-sort-type=\"number\">Rank\n",
       "</th>\n",
       "<th>Bank name\n",
       "</th>\n",
       "<th>Market cap<br/>(US$ billion)\n",
       "</th></tr>\n",
       "<tr>\n",
       "<td>1\n",
       "</td>\n",
       "<td><span class=\"flagicon\"><span class=\"mw-image-border\" typeof=\"mw:File\"><a href=\"/web/20230908091635/https://en.wikipedia.org/wiki/United_States\" title=\"United States\"><img alt=\"United States\" class=\"mw-file-element\" data-file-height=\"650\" data-file-width=\"1235\" decoding=\"async\" height=\"12\" src=\"//web.archive.org/web/20230908091635im_/https://upload.wikimedia.org/wikipedia/en/thumb/a/a4/Flag_of_the_United_States.svg/23px-Flag_of_the_United_States.svg.png\" srcset=\"//web.archive.org/web/20230908091635im_/https://upload.wikimedia.org/wikipedia/en/thumb/a/a4/Flag_of_the_United_States.svg/35px-Flag_of_the_United_States.svg.png 1.5x, //web.archive.org/web/20230908091635im_/https://upload.wikimedia.org/wikipedia/en/thumb/a/a4/Flag_of_the_United_States.svg/46px-Flag_of_the_United_States.svg.png 2x\" width=\"23\"/></a></span></span> <a href=\"/web/20230908091635/https://en.wikipedia.org/wiki/JPMorgan_Chase\" title=\"JPMorgan Chase\">JPMorgan Chase</a>\n",
       "</td>\n",
       "<td>432.92\n",
       "</td></tr>\n",
       "<tr>\n",
       "<td>2\n",
       "</td>\n",
       "<td><span class=\"flagicon\"><span class=\"mw-image-border\" typeof=\"mw:File\"><a href=\"/web/20230908091635/https://en.wikipedia.org/wiki/United_States\" title=\"United States\"><img alt=\"United States\" class=\"mw-file-element\" data-file-height=\"650\" data-file-width=\"1235\" decoding=\"async\" height=\"12\" src=\"//web.archive.org/web/20230908091635im_/https://upload.wikimedia.org/wikipedia/en/thumb/a/a4/Flag_of_the_United_States.svg/23px-Flag_of_the_United_States.svg.png\" srcset=\"//web.archive.org/web/20230908091635im_/https://upload.wikimedia.org/wikipedia/en/thumb/a/a4/Flag_of_the_United_States.svg/35px-Flag_of_the_United_States.svg.png 1.5x, //web.archive.org/web/20230908091635im_/https://upload.wikimedia.org/wikipedia/en/thumb/a/a4/Flag_of_the_United_States.svg/46px-Flag_of_the_United_States.svg.png 2x\" width=\"23\"/></a></span></span> <a href=\"/web/20230908091635/https://en.wikipedia.org/wiki/Bank_of_America\" title=\"Bank of America\">Bank of America</a>\n",
       "</td>\n",
       "<td>231.52\n",
       "</td></tr>\n",
       "<tr>\n",
       "<td>3\n",
       "</td>\n",
       "<td><span class=\"flagicon\"><span class=\"mw-image-border\" typeof=\"mw:File\"><a href=\"/web/20230908091635/https://en.wikipedia.org/wiki/China\" title=\"China\"><img alt=\"China\" class=\"mw-file-element\" data-file-height=\"600\" data-file-width=\"900\" decoding=\"async\" height=\"15\" src=\"//web.archive.org/web/20230908091635im_/https://upload.wikimedia.org/wikipedia/commons/thumb/f/fa/Flag_of_the_People%27s_Republic_of_China.svg/23px-Flag_of_the_People%27s_Republic_of_China.svg.png\" srcset=\"//web.archive.org/web/20230908091635im_/https://upload.wikimedia.org/wikipedia/commons/thumb/f/fa/Flag_of_the_People%27s_Republic_of_China.svg/35px-Flag_of_the_People%27s_Republic_of_China.svg.png 1.5x, //web.archive.org/web/20230908091635im_/https://upload.wikimedia.org/wikipedia/commons/thumb/f/fa/Flag_of_the_People%27s_Republic_of_China.svg/45px-Flag_of_the_People%27s_Republic_of_China.svg.png 2x\" width=\"23\"/></a></span></span> <a href=\"/web/20230908091635/https://en.wikipedia.org/wiki/Industrial_and_Commercial_Bank_of_China\" title=\"Industrial and Commercial Bank of China\">Industrial and Commercial Bank of China</a>\n",
       "</td>\n",
       "<td>194.56\n",
       "</td></tr>\n",
       "<tr>\n",
       "<td>4\n",
       "</td>\n",
       "<td><span class=\"flagicon\"><span class=\"mw-image-border\" typeof=\"mw:File\"><a href=\"/web/20230908091635/https://en.wikipedia.org/wiki/China\" title=\"China\"><img alt=\"China\" class=\"mw-file-element\" data-file-height=\"600\" data-file-width=\"900\" decoding=\"async\" height=\"15\" src=\"//web.archive.org/web/20230908091635im_/https://upload.wikimedia.org/wikipedia/commons/thumb/f/fa/Flag_of_the_People%27s_Republic_of_China.svg/23px-Flag_of_the_People%27s_Republic_of_China.svg.png\" srcset=\"//web.archive.org/web/20230908091635im_/https://upload.wikimedia.org/wikipedia/commons/thumb/f/fa/Flag_of_the_People%27s_Republic_of_China.svg/35px-Flag_of_the_People%27s_Republic_of_China.svg.png 1.5x, //web.archive.org/web/20230908091635im_/https://upload.wikimedia.org/wikipedia/commons/thumb/f/fa/Flag_of_the_People%27s_Republic_of_China.svg/45px-Flag_of_the_People%27s_Republic_of_China.svg.png 2x\" width=\"23\"/></a></span></span> <a href=\"/web/20230908091635/https://en.wikipedia.org/wiki/Agricultural_Bank_of_China\" title=\"Agricultural Bank of China\">Agricultural Bank of China</a>\n",
       "</td>\n",
       "<td>160.68\n",
       "</td></tr>\n",
       "<tr>\n",
       "<td>5\n",
       "</td>\n",
       "<td><span class=\"flagicon\"><span class=\"mw-image-border\" typeof=\"mw:File\"><a href=\"/web/20230908091635/https://en.wikipedia.org/wiki/India\" title=\"India\"><img alt=\"India\" class=\"mw-file-element\" data-file-height=\"600\" data-file-width=\"900\" decoding=\"async\" height=\"15\" src=\"//web.archive.org/web/20230908091635im_/https://upload.wikimedia.org/wikipedia/en/thumb/4/41/Flag_of_India.svg/23px-Flag_of_India.svg.png\" srcset=\"//web.archive.org/web/20230908091635im_/https://upload.wikimedia.org/wikipedia/en/thumb/4/41/Flag_of_India.svg/35px-Flag_of_India.svg.png 1.5x, //web.archive.org/web/20230908091635im_/https://upload.wikimedia.org/wikipedia/en/thumb/4/41/Flag_of_India.svg/45px-Flag_of_India.svg.png 2x\" width=\"23\"/></a></span></span> <a href=\"/web/20230908091635/https://en.wikipedia.org/wiki/HDFC_Bank\" title=\"HDFC Bank\">HDFC Bank</a>\n",
       "</td>\n",
       "<td>157.91\n",
       "</td></tr>\n",
       "<tr>\n",
       "<td>6\n",
       "</td>\n",
       "<td><span class=\"flagicon\"><span class=\"mw-image-border\" typeof=\"mw:File\"><a href=\"/web/20230908091635/https://en.wikipedia.org/wiki/United_States\" title=\"United States\"><img alt=\"United States\" class=\"mw-file-element\" data-file-height=\"650\" data-file-width=\"1235\" decoding=\"async\" height=\"12\" src=\"//web.archive.org/web/20230908091635im_/https://upload.wikimedia.org/wikipedia/en/thumb/a/a4/Flag_of_the_United_States.svg/23px-Flag_of_the_United_States.svg.png\" srcset=\"//web.archive.org/web/20230908091635im_/https://upload.wikimedia.org/wikipedia/en/thumb/a/a4/Flag_of_the_United_States.svg/35px-Flag_of_the_United_States.svg.png 1.5x, //web.archive.org/web/20230908091635im_/https://upload.wikimedia.org/wikipedia/en/thumb/a/a4/Flag_of_the_United_States.svg/46px-Flag_of_the_United_States.svg.png 2x\" width=\"23\"/></a></span></span> <a href=\"/web/20230908091635/https://en.wikipedia.org/wiki/Wells_Fargo\" title=\"Wells Fargo\">Wells Fargo</a>\n",
       "</td>\n",
       "<td>155.87\n",
       "</td></tr>\n",
       "<tr>\n",
       "<td>7\n",
       "</td>\n",
       "<td><span class=\"flagicon\"><span class=\"mw-image-border\" typeof=\"mw:File\"><a href=\"/web/20230908091635/https://en.wikipedia.org/wiki/United_Kingdom\" title=\"United Kingdom\"><img alt=\"United Kingdom\" class=\"mw-file-element\" data-file-height=\"600\" data-file-width=\"1200\" decoding=\"async\" height=\"12\" src=\"//web.archive.org/web/20230908091635im_/https://upload.wikimedia.org/wikipedia/en/thumb/a/ae/Flag_of_the_United_Kingdom.svg/23px-Flag_of_the_United_Kingdom.svg.png\" srcset=\"//web.archive.org/web/20230908091635im_/https://upload.wikimedia.org/wikipedia/en/thumb/a/ae/Flag_of_the_United_Kingdom.svg/35px-Flag_of_the_United_Kingdom.svg.png 1.5x, //web.archive.org/web/20230908091635im_/https://upload.wikimedia.org/wikipedia/en/thumb/a/ae/Flag_of_the_United_Kingdom.svg/46px-Flag_of_the_United_Kingdom.svg.png 2x\" width=\"23\"/></a></span></span> <a href=\"/web/20230908091635/https://en.wikipedia.org/wiki/HSBC\" title=\"HSBC\">HSBC Holdings PLC</a>\n",
       "</td>\n",
       "<td>148.90\n",
       "</td></tr>\n",
       "<tr>\n",
       "<td>8\n",
       "</td>\n",
       "<td><span class=\"flagicon\"><span class=\"mw-image-border\" typeof=\"mw:File\"><a href=\"/web/20230908091635/https://en.wikipedia.org/wiki/United_States\" title=\"United States\"><img alt=\"United States\" class=\"mw-file-element\" data-file-height=\"650\" data-file-width=\"1235\" decoding=\"async\" height=\"12\" src=\"//web.archive.org/web/20230908091635im_/https://upload.wikimedia.org/wikipedia/en/thumb/a/a4/Flag_of_the_United_States.svg/23px-Flag_of_the_United_States.svg.png\" srcset=\"//web.archive.org/web/20230908091635im_/https://upload.wikimedia.org/wikipedia/en/thumb/a/a4/Flag_of_the_United_States.svg/35px-Flag_of_the_United_States.svg.png 1.5x, //web.archive.org/web/20230908091635im_/https://upload.wikimedia.org/wikipedia/en/thumb/a/a4/Flag_of_the_United_States.svg/46px-Flag_of_the_United_States.svg.png 2x\" width=\"23\"/></a></span></span> <a href=\"/web/20230908091635/https://en.wikipedia.org/wiki/Morgan_Stanley\" title=\"Morgan Stanley\">Morgan Stanley</a>\n",
       "</td>\n",
       "<td>140.83\n",
       "</td></tr>\n",
       "<tr>\n",
       "<td>9\n",
       "</td>\n",
       "<td><span class=\"flagicon\"><span class=\"mw-image-border\" typeof=\"mw:File\"><a href=\"/web/20230908091635/https://en.wikipedia.org/wiki/China\" title=\"China\"><img alt=\"China\" class=\"mw-file-element\" data-file-height=\"600\" data-file-width=\"900\" decoding=\"async\" height=\"15\" src=\"//web.archive.org/web/20230908091635im_/https://upload.wikimedia.org/wikipedia/commons/thumb/f/fa/Flag_of_the_People%27s_Republic_of_China.svg/23px-Flag_of_the_People%27s_Republic_of_China.svg.png\" srcset=\"//web.archive.org/web/20230908091635im_/https://upload.wikimedia.org/wikipedia/commons/thumb/f/fa/Flag_of_the_People%27s_Republic_of_China.svg/35px-Flag_of_the_People%27s_Republic_of_China.svg.png 1.5x, //web.archive.org/web/20230908091635im_/https://upload.wikimedia.org/wikipedia/commons/thumb/f/fa/Flag_of_the_People%27s_Republic_of_China.svg/45px-Flag_of_the_People%27s_Republic_of_China.svg.png 2x\" width=\"23\"/></a></span></span> <a href=\"/web/20230908091635/https://en.wikipedia.org/wiki/China_Construction_Bank\" title=\"China Construction Bank\">China Construction Bank</a>\n",
       "</td>\n",
       "<td>139.82\n",
       "</td></tr>\n",
       "<tr>\n",
       "<td>10\n",
       "</td>\n",
       "<td><span class=\"flagicon\"><span class=\"mw-image-border\" typeof=\"mw:File\"><a href=\"/web/20230908091635/https://en.wikipedia.org/wiki/China\" title=\"China\"><img alt=\"China\" class=\"mw-file-element\" data-file-height=\"600\" data-file-width=\"900\" decoding=\"async\" height=\"15\" src=\"//web.archive.org/web/20230908091635im_/https://upload.wikimedia.org/wikipedia/commons/thumb/f/fa/Flag_of_the_People%27s_Republic_of_China.svg/23px-Flag_of_the_People%27s_Republic_of_China.svg.png\" srcset=\"//web.archive.org/web/20230908091635im_/https://upload.wikimedia.org/wikipedia/commons/thumb/f/fa/Flag_of_the_People%27s_Republic_of_China.svg/35px-Flag_of_the_People%27s_Republic_of_China.svg.png 1.5x, //web.archive.org/web/20230908091635im_/https://upload.wikimedia.org/wikipedia/commons/thumb/f/fa/Flag_of_the_People%27s_Republic_of_China.svg/45px-Flag_of_the_People%27s_Republic_of_China.svg.png 2x\" width=\"23\"/></a></span></span> <a href=\"/web/20230908091635/https://en.wikipedia.org/wiki/Bank_of_China\" title=\"Bank of China\">Bank of China</a>\n",
       "</td>\n",
       "<td>136.81\n",
       "</td></tr></tbody></table>"
      ]
     },
     "execution_count": 7,
     "metadata": {},
     "output_type": "execute_result"
    }
   ],
   "source": [
    "data_table = soup.find(\"table\", {\"class\": \"wikitable\"})\n",
    "data_table"
   ]
  },
  {
   "cell_type": "code",
   "execution_count": 8,
   "id": "e23b507a",
   "metadata": {},
   "outputs": [
    {
     "name": "stdout",
     "output_type": "stream",
     "text": [
      "Rank\n",
      "\n",
      "Bank name\n",
      "\n",
      "Market cap(US$ billion)\n",
      "1\n",
      "\n",
      " JPMorgan Chase\n",
      "\n",
      "432.92\n",
      "2\n",
      "\n",
      " Bank of America\n",
      "\n",
      "231.52\n",
      "3\n",
      "\n",
      " Industrial and Commercial Bank of China\n",
      "\n",
      "194.56\n",
      "4\n",
      "\n",
      " Agricultural Bank of China\n",
      "\n",
      "160.68\n",
      "5\n",
      "\n",
      " HDFC Bank\n",
      "\n",
      "157.91\n",
      "6\n",
      "\n",
      " Wells Fargo\n",
      "\n",
      "155.87\n",
      "7\n",
      "\n",
      " HSBC Holdings PLC\n",
      "\n",
      "148.90\n",
      "8\n",
      "\n",
      " Morgan Stanley\n",
      "\n",
      "140.83\n",
      "9\n",
      "\n",
      " China Construction Bank\n",
      "\n",
      "139.82\n",
      "10\n",
      "\n",
      " Bank of China\n",
      "\n",
      "136.81\n"
     ]
    }
   ],
   "source": [
    "table_body = data_table.find(\"tbody\")\n",
    "\n",
    "rows = table_body.find_all(\"tr\")\n",
    "\n",
    "# Example: print each row's text content\n",
    "for row in rows:\n",
    "    print(row.text.strip())\n"
   ]
  },
  {
   "cell_type": "code",
   "execution_count": 9,
   "id": "9de6969c",
   "metadata": {},
   "outputs": [
    {
     "name": "stdout",
     "output_type": "stream",
     "text": [
      "[]\n",
      "['1', 'JPMorgan Chase', '432.92']\n",
      "['2', 'Bank of America', '231.52']\n",
      "['3', 'Industrial and Commercial Bank of China', '194.56']\n",
      "['4', 'Agricultural Bank of China', '160.68']\n",
      "['5', 'HDFC Bank', '157.91']\n",
      "['6', 'Wells Fargo', '155.87']\n",
      "['7', 'HSBC Holdings PLC', '148.90']\n",
      "['8', 'Morgan Stanley', '140.83']\n",
      "['9', 'China Construction Bank', '139.82']\n",
      "['10', 'Bank of China', '136.81']\n"
     ]
    }
   ],
   "source": [
    "for row in rows:\n",
    "    cells = row.find_all(\"td\")\n",
    "    cell_values = [cell.text.strip() for cell in cells]\n",
    "    print(cell_values)"
   ]
  },
  {
   "cell_type": "code",
   "execution_count": 10,
   "id": "187d61ea",
   "metadata": {},
   "outputs": [],
   "source": [
    "data = []\n",
    "for row in rows:\n",
    "    cells = row.find_all(\"td\")\n",
    "    cell_values = [cell.text.strip() for cell in cells]\n",
    "    if cell_values:  # Only add non-empty rows\n",
    "        data.append(cell_values)"
   ]
  },
  {
   "cell_type": "code",
   "execution_count": 11,
   "id": "5c9aa550",
   "metadata": {},
   "outputs": [
    {
     "name": "stdout",
     "output_type": "stream",
     "text": [
      "Data successfully saved to 'bank_list.csv'\n"
     ]
    }
   ],
   "source": [
    "# Create DataFrame\n",
    "df = pd.DataFrame(data)\n",
    "\n",
    "# Export to CSV\n",
    "df.to_csv(\"banks_list.csv\", index=False, encoding=\"utf-8\")\n",
    "\n",
    "print(\"Data successfully saved to 'bank_list.csv'\")"
   ]
  },
  {
   "cell_type": "code",
   "execution_count": 14,
   "id": "b0147699",
   "metadata": {},
   "outputs": [
    {
     "name": "stderr",
     "output_type": "stream",
     "text": [
      "C:\\Users\\CORECOM\\AppData\\Local\\Temp\\ipykernel_10188\\3207034511.py:6: FutureWarning: Passing literal html to 'read_html' is deprecated and will be removed in a future version. To read from a literal string, wrap it in a 'StringIO' object.\n",
      "  df = pd.read_html(str(table))[0]\n"
     ]
    }
   ],
   "source": [
    "def extract():\n",
    "    url = \"https://web.archive.org/web/20230908091635/https://en.wikipedia.org/wiki/List_of_largest_banks\"\n",
    "    response = requests.get(url).text\n",
    "    soup = BeautifulSoup(response, 'lxml')\n",
    "    table = soup.find('span', string=\"By market capitalization\").find_next('table')\n",
    "    df = pd.read_html(str(table))[0]\n",
    "    return df\n",
    "org_df = extract()"
   ]
  },
  {
   "cell_type": "markdown",
   "id": "97544015",
   "metadata": {},
   "source": [
    "# Transform"
   ]
  },
  {
   "cell_type": "code",
   "execution_count": 19,
   "id": "4bba8fe4",
   "metadata": {},
   "outputs": [
    {
     "name": "stdout",
     "output_type": "stream",
     "text": [
      "{'pkr': 283.0, 'inr': 86.0, 'gbp': 0.87, 'eur': 0.74}\n"
     ]
    },
    {
     "ename": "KeyError",
     "evalue": "'Market cap(US$ billion)'",
     "output_type": "error",
     "traceback": [
      "\u001b[1;31m---------------------------------------------------------------------------\u001b[0m",
      "\u001b[1;31mKeyError\u001b[0m                                  Traceback (most recent call last)",
      "File \u001b[1;32m~\\AppData\\Roaming\\Python\\Python312\\site-packages\\pandas\\core\\indexes\\base.py:3805\u001b[0m, in \u001b[0;36mIndex.get_loc\u001b[1;34m(self, key)\u001b[0m\n\u001b[0;32m   3804\u001b[0m \u001b[38;5;28;01mtry\u001b[39;00m:\n\u001b[1;32m-> 3805\u001b[0m     \u001b[38;5;28;01mreturn\u001b[39;00m \u001b[38;5;28;43mself\u001b[39;49m\u001b[38;5;241;43m.\u001b[39;49m\u001b[43m_engine\u001b[49m\u001b[38;5;241;43m.\u001b[39;49m\u001b[43mget_loc\u001b[49m\u001b[43m(\u001b[49m\u001b[43mcasted_key\u001b[49m\u001b[43m)\u001b[49m\n\u001b[0;32m   3806\u001b[0m \u001b[38;5;28;01mexcept\u001b[39;00m \u001b[38;5;167;01mKeyError\u001b[39;00m \u001b[38;5;28;01mas\u001b[39;00m err:\n",
      "File \u001b[1;32mindex.pyx:167\u001b[0m, in \u001b[0;36mpandas._libs.index.IndexEngine.get_loc\u001b[1;34m()\u001b[0m\n",
      "File \u001b[1;32mindex.pyx:196\u001b[0m, in \u001b[0;36mpandas._libs.index.IndexEngine.get_loc\u001b[1;34m()\u001b[0m\n",
      "File \u001b[1;32mpandas\\\\_libs\\\\hashtable_class_helper.pxi:7081\u001b[0m, in \u001b[0;36mpandas._libs.hashtable.PyObjectHashTable.get_item\u001b[1;34m()\u001b[0m\n",
      "File \u001b[1;32mpandas\\\\_libs\\\\hashtable_class_helper.pxi:7089\u001b[0m, in \u001b[0;36mpandas._libs.hashtable.PyObjectHashTable.get_item\u001b[1;34m()\u001b[0m\n",
      "\u001b[1;31mKeyError\u001b[0m: 'Market cap(US$ billion)'",
      "\nThe above exception was the direct cause of the following exception:\n",
      "\u001b[1;31mKeyError\u001b[0m                                  Traceback (most recent call last)",
      "Cell \u001b[1;32mIn[19], line 8\u001b[0m\n\u001b[0;32m      5\u001b[0m     df[\u001b[38;5;124m\"\u001b[39m\u001b[38;5;124mMarket cap (PKR billion)\u001b[39m\u001b[38;5;124m\"\u001b[39m] \u001b[38;5;241m=\u001b[39m df[\u001b[38;5;124m\"\u001b[39m\u001b[38;5;124mMarket cap(US$ billion)\u001b[39m\u001b[38;5;124m\"\u001b[39m] \u001b[38;5;241m*\u001b[39m exchange_rate[\u001b[38;5;124m\"\u001b[39m\u001b[38;5;124mPKR\u001b[39m\u001b[38;5;124m\"\u001b[39m]\n\u001b[0;32m      6\u001b[0m     \u001b[38;5;28;01mreturn\u001b[39;00m df\n\u001b[1;32m----> 8\u001b[0m \u001b[43mtransform\u001b[49m\u001b[43m(\u001b[49m\u001b[43morg_df\u001b[49m\u001b[43m,\u001b[49m\u001b[43m \u001b[49m\u001b[38;5;124;43m'\u001b[39;49m\u001b[38;5;124;43m./input/currency_rate.csv\u001b[39;49m\u001b[38;5;124;43m'\u001b[39;49m\u001b[43m)\u001b[49m\n",
      "Cell \u001b[1;32mIn[19], line 5\u001b[0m, in \u001b[0;36mtransform\u001b[1;34m(df, csv_path)\u001b[0m\n\u001b[0;32m      2\u001b[0m exchange_rate \u001b[38;5;241m=\u001b[39m pd\u001b[38;5;241m.\u001b[39mread_csv(csv_path, index_col\u001b[38;5;241m=\u001b[39m\u001b[38;5;241m0\u001b[39m)\u001b[38;5;241m.\u001b[39mto_dict()[\u001b[38;5;124m\"\u001b[39m\u001b[38;5;124mrate\u001b[39m\u001b[38;5;124m\"\u001b[39m]\n\u001b[0;32m      3\u001b[0m \u001b[38;5;28mprint\u001b[39m(exchange_rate)\n\u001b[1;32m----> 5\u001b[0m df[\u001b[38;5;124m\"\u001b[39m\u001b[38;5;124mMarket cap (PKR billion)\u001b[39m\u001b[38;5;124m\"\u001b[39m] \u001b[38;5;241m=\u001b[39m \u001b[43mdf\u001b[49m\u001b[43m[\u001b[49m\u001b[38;5;124;43m\"\u001b[39;49m\u001b[38;5;124;43mMarket cap(US$ billion)\u001b[39;49m\u001b[38;5;124;43m\"\u001b[39;49m\u001b[43m]\u001b[49m \u001b[38;5;241m*\u001b[39m exchange_rate[\u001b[38;5;124m\"\u001b[39m\u001b[38;5;124mPKR\u001b[39m\u001b[38;5;124m\"\u001b[39m]\n\u001b[0;32m      6\u001b[0m \u001b[38;5;28;01mreturn\u001b[39;00m df\n",
      "File \u001b[1;32m~\\AppData\\Roaming\\Python\\Python312\\site-packages\\pandas\\core\\frame.py:4102\u001b[0m, in \u001b[0;36mDataFrame.__getitem__\u001b[1;34m(self, key)\u001b[0m\n\u001b[0;32m   4100\u001b[0m \u001b[38;5;28;01mif\u001b[39;00m \u001b[38;5;28mself\u001b[39m\u001b[38;5;241m.\u001b[39mcolumns\u001b[38;5;241m.\u001b[39mnlevels \u001b[38;5;241m>\u001b[39m \u001b[38;5;241m1\u001b[39m:\n\u001b[0;32m   4101\u001b[0m     \u001b[38;5;28;01mreturn\u001b[39;00m \u001b[38;5;28mself\u001b[39m\u001b[38;5;241m.\u001b[39m_getitem_multilevel(key)\n\u001b[1;32m-> 4102\u001b[0m indexer \u001b[38;5;241m=\u001b[39m \u001b[38;5;28;43mself\u001b[39;49m\u001b[38;5;241;43m.\u001b[39;49m\u001b[43mcolumns\u001b[49m\u001b[38;5;241;43m.\u001b[39;49m\u001b[43mget_loc\u001b[49m\u001b[43m(\u001b[49m\u001b[43mkey\u001b[49m\u001b[43m)\u001b[49m\n\u001b[0;32m   4103\u001b[0m \u001b[38;5;28;01mif\u001b[39;00m is_integer(indexer):\n\u001b[0;32m   4104\u001b[0m     indexer \u001b[38;5;241m=\u001b[39m [indexer]\n",
      "File \u001b[1;32m~\\AppData\\Roaming\\Python\\Python312\\site-packages\\pandas\\core\\indexes\\base.py:3812\u001b[0m, in \u001b[0;36mIndex.get_loc\u001b[1;34m(self, key)\u001b[0m\n\u001b[0;32m   3807\u001b[0m     \u001b[38;5;28;01mif\u001b[39;00m \u001b[38;5;28misinstance\u001b[39m(casted_key, \u001b[38;5;28mslice\u001b[39m) \u001b[38;5;129;01mor\u001b[39;00m (\n\u001b[0;32m   3808\u001b[0m         \u001b[38;5;28misinstance\u001b[39m(casted_key, abc\u001b[38;5;241m.\u001b[39mIterable)\n\u001b[0;32m   3809\u001b[0m         \u001b[38;5;129;01mand\u001b[39;00m \u001b[38;5;28many\u001b[39m(\u001b[38;5;28misinstance\u001b[39m(x, \u001b[38;5;28mslice\u001b[39m) \u001b[38;5;28;01mfor\u001b[39;00m x \u001b[38;5;129;01min\u001b[39;00m casted_key)\n\u001b[0;32m   3810\u001b[0m     ):\n\u001b[0;32m   3811\u001b[0m         \u001b[38;5;28;01mraise\u001b[39;00m InvalidIndexError(key)\n\u001b[1;32m-> 3812\u001b[0m     \u001b[38;5;28;01mraise\u001b[39;00m \u001b[38;5;167;01mKeyError\u001b[39;00m(key) \u001b[38;5;28;01mfrom\u001b[39;00m\u001b[38;5;250m \u001b[39m\u001b[38;5;21;01merr\u001b[39;00m\n\u001b[0;32m   3813\u001b[0m \u001b[38;5;28;01mexcept\u001b[39;00m \u001b[38;5;167;01mTypeError\u001b[39;00m:\n\u001b[0;32m   3814\u001b[0m     \u001b[38;5;66;03m# If we have a listlike key, _check_indexing_error will raise\u001b[39;00m\n\u001b[0;32m   3815\u001b[0m     \u001b[38;5;66;03m#  InvalidIndexError. Otherwise we fall through and re-raise\u001b[39;00m\n\u001b[0;32m   3816\u001b[0m     \u001b[38;5;66;03m#  the TypeError.\u001b[39;00m\n\u001b[0;32m   3817\u001b[0m     \u001b[38;5;28mself\u001b[39m\u001b[38;5;241m.\u001b[39m_check_indexing_error(key)\n",
      "\u001b[1;31mKeyError\u001b[0m: 'Market cap(US$ billion)'"
     ]
    }
   ],
   "source": [
    "def transform(df, csv_path):\n",
    "    exchange_rate = pd.read_csv(csv_path, index_col=0).to_dict()[\"rate\"]\n",
    "    print(exchange_rate)\n",
    "    \n",
    "    df[\"Market cap (PKR billion)\"] = df[\"Market cap(US$ billion)\"] * exchange_rate[\"PKR\"]\n",
    "    return df\n",
    "\n",
    "transform(org_df, './input/currency_rate.csv')"
   ]
  }
 ],
 "metadata": {
  "kernelspec": {
   "display_name": "Python 3",
   "language": "python",
   "name": "python3"
  },
  "language_info": {
   "codemirror_mode": {
    "name": "ipython",
    "version": 3
   },
   "file_extension": ".py",
   "mimetype": "text/x-python",
   "name": "python",
   "nbconvert_exporter": "python",
   "pygments_lexer": "ipython3",
   "version": "3.12.4"
  }
 },
 "nbformat": 4,
 "nbformat_minor": 5
}
