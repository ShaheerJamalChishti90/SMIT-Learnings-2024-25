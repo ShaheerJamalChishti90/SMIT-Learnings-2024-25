{
 "cells": [
  {
   "cell_type": "code",
   "execution_count": 2,
   "id": "aecf645a",
   "metadata": {},
   "outputs": [],
   "source": [
    "import requests\n",
    "from bs4 import BeautifulSoup\n",
    "import pandas as pd\n",
    "from datetime import datetime\n",
    "from io import StringIO"
   ]
  },
  {
   "cell_type": "markdown",
   "id": "b51c5a66",
   "metadata": {},
   "source": [
    "# Logs"
   ]
  },
  {
   "cell_type": "code",
   "execution_count": 3,
   "id": "35f5cc0a",
   "metadata": {},
   "outputs": [],
   "source": [
    "def log_message(message):\n",
    "    with open(\"./logs/Code_Logs.txt\", \"a\") as f:\n",
    "        f.write(f\"{datetime.now()}: {message}\\n\")"
   ]
  },
  {
   "cell_type": "markdown",
   "id": "050ff434",
   "metadata": {},
   "source": []
  },
  {
   "cell_type": "markdown",
   "id": "a3cd99fa",
   "metadata": {},
   "source": [
    "# Extract"
   ]
  },
  {
   "cell_type": "code",
   "execution_count": 4,
   "id": "0541dc4b",
   "metadata": {},
   "outputs": [],
   "source": [
    "url = \"https://web.archive.org/web/20230908091635/https://en.wikipedia.org/wiki/List_of_largest_banks\"\n",
    "page = requests.get(url).content\n",
    "soup = BeautifulSoup(page, \"html.parser\")"
   ]
  },
  {
   "cell_type": "code",
   "execution_count": 5,
   "id": "f9d0ca74",
   "metadata": {},
   "outputs": [],
   "source": [
    "# tables = soup.find(\"span\", {\"class\": \"mw-headline\"}).find_next(\"table\", {\"class\": \"wikitable\"})\n",
    "table = soup.find(\"div\", {\"class\": \"mw-parser-output\"}).find_next(\"table\", {\"class\": \"wikitable\"})\n",
    "for header in table:\n",
    "    th = header.find(\"thead\")\n",
    "th\n",
    "# for rows in table:\n",
    "    "
   ]
  },
  {
   "cell_type": "code",
   "execution_count": 6,
   "id": "c35702d0",
   "metadata": {},
   "outputs": [
    {
     "data": {
      "text/plain": [
       "<table class=\"wikitable sortable mw-collapsible\">\n",
       "<tbody><tr>\n",
       "<th data-sort-type=\"number\">Rank\n",
       "</th>\n",
       "<th>Bank name\n",
       "</th>\n",
       "<th>Market cap<br/>(US$ billion)\n",
       "</th></tr>\n",
       "<tr>\n",
       "<td>1\n",
       "</td>\n",
       "<td><span class=\"flagicon\"><span class=\"mw-image-border\" typeof=\"mw:File\"><a href=\"/web/20230908091635/https://en.wikipedia.org/wiki/United_States\" title=\"United States\"><img alt=\"United States\" class=\"mw-file-element\" data-file-height=\"650\" data-file-width=\"1235\" decoding=\"async\" height=\"12\" src=\"//web.archive.org/web/20230908091635im_/https://upload.wikimedia.org/wikipedia/en/thumb/a/a4/Flag_of_the_United_States.svg/23px-Flag_of_the_United_States.svg.png\" srcset=\"//web.archive.org/web/20230908091635im_/https://upload.wikimedia.org/wikipedia/en/thumb/a/a4/Flag_of_the_United_States.svg/35px-Flag_of_the_United_States.svg.png 1.5x, //web.archive.org/web/20230908091635im_/https://upload.wikimedia.org/wikipedia/en/thumb/a/a4/Flag_of_the_United_States.svg/46px-Flag_of_the_United_States.svg.png 2x\" width=\"23\"/></a></span></span> <a href=\"/web/20230908091635/https://en.wikipedia.org/wiki/JPMorgan_Chase\" title=\"JPMorgan Chase\">JPMorgan Chase</a>\n",
       "</td>\n",
       "<td>432.92\n",
       "</td></tr>\n",
       "<tr>\n",
       "<td>2\n",
       "</td>\n",
       "<td><span class=\"flagicon\"><span class=\"mw-image-border\" typeof=\"mw:File\"><a href=\"/web/20230908091635/https://en.wikipedia.org/wiki/United_States\" title=\"United States\"><img alt=\"United States\" class=\"mw-file-element\" data-file-height=\"650\" data-file-width=\"1235\" decoding=\"async\" height=\"12\" src=\"//web.archive.org/web/20230908091635im_/https://upload.wikimedia.org/wikipedia/en/thumb/a/a4/Flag_of_the_United_States.svg/23px-Flag_of_the_United_States.svg.png\" srcset=\"//web.archive.org/web/20230908091635im_/https://upload.wikimedia.org/wikipedia/en/thumb/a/a4/Flag_of_the_United_States.svg/35px-Flag_of_the_United_States.svg.png 1.5x, //web.archive.org/web/20230908091635im_/https://upload.wikimedia.org/wikipedia/en/thumb/a/a4/Flag_of_the_United_States.svg/46px-Flag_of_the_United_States.svg.png 2x\" width=\"23\"/></a></span></span> <a href=\"/web/20230908091635/https://en.wikipedia.org/wiki/Bank_of_America\" title=\"Bank of America\">Bank of America</a>\n",
       "</td>\n",
       "<td>231.52\n",
       "</td></tr>\n",
       "<tr>\n",
       "<td>3\n",
       "</td>\n",
       "<td><span class=\"flagicon\"><span class=\"mw-image-border\" typeof=\"mw:File\"><a href=\"/web/20230908091635/https://en.wikipedia.org/wiki/China\" title=\"China\"><img alt=\"China\" class=\"mw-file-element\" data-file-height=\"600\" data-file-width=\"900\" decoding=\"async\" height=\"15\" src=\"//web.archive.org/web/20230908091635im_/https://upload.wikimedia.org/wikipedia/commons/thumb/f/fa/Flag_of_the_People%27s_Republic_of_China.svg/23px-Flag_of_the_People%27s_Republic_of_China.svg.png\" srcset=\"//web.archive.org/web/20230908091635im_/https://upload.wikimedia.org/wikipedia/commons/thumb/f/fa/Flag_of_the_People%27s_Republic_of_China.svg/35px-Flag_of_the_People%27s_Republic_of_China.svg.png 1.5x, //web.archive.org/web/20230908091635im_/https://upload.wikimedia.org/wikipedia/commons/thumb/f/fa/Flag_of_the_People%27s_Republic_of_China.svg/45px-Flag_of_the_People%27s_Republic_of_China.svg.png 2x\" width=\"23\"/></a></span></span> <a href=\"/web/20230908091635/https://en.wikipedia.org/wiki/Industrial_and_Commercial_Bank_of_China\" title=\"Industrial and Commercial Bank of China\">Industrial and Commercial Bank of China</a>\n",
       "</td>\n",
       "<td>194.56\n",
       "</td></tr>\n",
       "<tr>\n",
       "<td>4\n",
       "</td>\n",
       "<td><span class=\"flagicon\"><span class=\"mw-image-border\" typeof=\"mw:File\"><a href=\"/web/20230908091635/https://en.wikipedia.org/wiki/China\" title=\"China\"><img alt=\"China\" class=\"mw-file-element\" data-file-height=\"600\" data-file-width=\"900\" decoding=\"async\" height=\"15\" src=\"//web.archive.org/web/20230908091635im_/https://upload.wikimedia.org/wikipedia/commons/thumb/f/fa/Flag_of_the_People%27s_Republic_of_China.svg/23px-Flag_of_the_People%27s_Republic_of_China.svg.png\" srcset=\"//web.archive.org/web/20230908091635im_/https://upload.wikimedia.org/wikipedia/commons/thumb/f/fa/Flag_of_the_People%27s_Republic_of_China.svg/35px-Flag_of_the_People%27s_Republic_of_China.svg.png 1.5x, //web.archive.org/web/20230908091635im_/https://upload.wikimedia.org/wikipedia/commons/thumb/f/fa/Flag_of_the_People%27s_Republic_of_China.svg/45px-Flag_of_the_People%27s_Republic_of_China.svg.png 2x\" width=\"23\"/></a></span></span> <a href=\"/web/20230908091635/https://en.wikipedia.org/wiki/Agricultural_Bank_of_China\" title=\"Agricultural Bank of China\">Agricultural Bank of China</a>\n",
       "</td>\n",
       "<td>160.68\n",
       "</td></tr>\n",
       "<tr>\n",
       "<td>5\n",
       "</td>\n",
       "<td><span class=\"flagicon\"><span class=\"mw-image-border\" typeof=\"mw:File\"><a href=\"/web/20230908091635/https://en.wikipedia.org/wiki/India\" title=\"India\"><img alt=\"India\" class=\"mw-file-element\" data-file-height=\"600\" data-file-width=\"900\" decoding=\"async\" height=\"15\" src=\"//web.archive.org/web/20230908091635im_/https://upload.wikimedia.org/wikipedia/en/thumb/4/41/Flag_of_India.svg/23px-Flag_of_India.svg.png\" srcset=\"//web.archive.org/web/20230908091635im_/https://upload.wikimedia.org/wikipedia/en/thumb/4/41/Flag_of_India.svg/35px-Flag_of_India.svg.png 1.5x, //web.archive.org/web/20230908091635im_/https://upload.wikimedia.org/wikipedia/en/thumb/4/41/Flag_of_India.svg/45px-Flag_of_India.svg.png 2x\" width=\"23\"/></a></span></span> <a href=\"/web/20230908091635/https://en.wikipedia.org/wiki/HDFC_Bank\" title=\"HDFC Bank\">HDFC Bank</a>\n",
       "</td>\n",
       "<td>157.91\n",
       "</td></tr>\n",
       "<tr>\n",
       "<td>6\n",
       "</td>\n",
       "<td><span class=\"flagicon\"><span class=\"mw-image-border\" typeof=\"mw:File\"><a href=\"/web/20230908091635/https://en.wikipedia.org/wiki/United_States\" title=\"United States\"><img alt=\"United States\" class=\"mw-file-element\" data-file-height=\"650\" data-file-width=\"1235\" decoding=\"async\" height=\"12\" src=\"//web.archive.org/web/20230908091635im_/https://upload.wikimedia.org/wikipedia/en/thumb/a/a4/Flag_of_the_United_States.svg/23px-Flag_of_the_United_States.svg.png\" srcset=\"//web.archive.org/web/20230908091635im_/https://upload.wikimedia.org/wikipedia/en/thumb/a/a4/Flag_of_the_United_States.svg/35px-Flag_of_the_United_States.svg.png 1.5x, //web.archive.org/web/20230908091635im_/https://upload.wikimedia.org/wikipedia/en/thumb/a/a4/Flag_of_the_United_States.svg/46px-Flag_of_the_United_States.svg.png 2x\" width=\"23\"/></a></span></span> <a href=\"/web/20230908091635/https://en.wikipedia.org/wiki/Wells_Fargo\" title=\"Wells Fargo\">Wells Fargo</a>\n",
       "</td>\n",
       "<td>155.87\n",
       "</td></tr>\n",
       "<tr>\n",
       "<td>7\n",
       "</td>\n",
       "<td><span class=\"flagicon\"><span class=\"mw-image-border\" typeof=\"mw:File\"><a href=\"/web/20230908091635/https://en.wikipedia.org/wiki/United_Kingdom\" title=\"United Kingdom\"><img alt=\"United Kingdom\" class=\"mw-file-element\" data-file-height=\"600\" data-file-width=\"1200\" decoding=\"async\" height=\"12\" src=\"//web.archive.org/web/20230908091635im_/https://upload.wikimedia.org/wikipedia/en/thumb/a/ae/Flag_of_the_United_Kingdom.svg/23px-Flag_of_the_United_Kingdom.svg.png\" srcset=\"//web.archive.org/web/20230908091635im_/https://upload.wikimedia.org/wikipedia/en/thumb/a/ae/Flag_of_the_United_Kingdom.svg/35px-Flag_of_the_United_Kingdom.svg.png 1.5x, //web.archive.org/web/20230908091635im_/https://upload.wikimedia.org/wikipedia/en/thumb/a/ae/Flag_of_the_United_Kingdom.svg/46px-Flag_of_the_United_Kingdom.svg.png 2x\" width=\"23\"/></a></span></span> <a href=\"/web/20230908091635/https://en.wikipedia.org/wiki/HSBC\" title=\"HSBC\">HSBC Holdings PLC</a>\n",
       "</td>\n",
       "<td>148.90\n",
       "</td></tr>\n",
       "<tr>\n",
       "<td>8\n",
       "</td>\n",
       "<td><span class=\"flagicon\"><span class=\"mw-image-border\" typeof=\"mw:File\"><a href=\"/web/20230908091635/https://en.wikipedia.org/wiki/United_States\" title=\"United States\"><img alt=\"United States\" class=\"mw-file-element\" data-file-height=\"650\" data-file-width=\"1235\" decoding=\"async\" height=\"12\" src=\"//web.archive.org/web/20230908091635im_/https://upload.wikimedia.org/wikipedia/en/thumb/a/a4/Flag_of_the_United_States.svg/23px-Flag_of_the_United_States.svg.png\" srcset=\"//web.archive.org/web/20230908091635im_/https://upload.wikimedia.org/wikipedia/en/thumb/a/a4/Flag_of_the_United_States.svg/35px-Flag_of_the_United_States.svg.png 1.5x, //web.archive.org/web/20230908091635im_/https://upload.wikimedia.org/wikipedia/en/thumb/a/a4/Flag_of_the_United_States.svg/46px-Flag_of_the_United_States.svg.png 2x\" width=\"23\"/></a></span></span> <a href=\"/web/20230908091635/https://en.wikipedia.org/wiki/Morgan_Stanley\" title=\"Morgan Stanley\">Morgan Stanley</a>\n",
       "</td>\n",
       "<td>140.83\n",
       "</td></tr>\n",
       "<tr>\n",
       "<td>9\n",
       "</td>\n",
       "<td><span class=\"flagicon\"><span class=\"mw-image-border\" typeof=\"mw:File\"><a href=\"/web/20230908091635/https://en.wikipedia.org/wiki/China\" title=\"China\"><img alt=\"China\" class=\"mw-file-element\" data-file-height=\"600\" data-file-width=\"900\" decoding=\"async\" height=\"15\" src=\"//web.archive.org/web/20230908091635im_/https://upload.wikimedia.org/wikipedia/commons/thumb/f/fa/Flag_of_the_People%27s_Republic_of_China.svg/23px-Flag_of_the_People%27s_Republic_of_China.svg.png\" srcset=\"//web.archive.org/web/20230908091635im_/https://upload.wikimedia.org/wikipedia/commons/thumb/f/fa/Flag_of_the_People%27s_Republic_of_China.svg/35px-Flag_of_the_People%27s_Republic_of_China.svg.png 1.5x, //web.archive.org/web/20230908091635im_/https://upload.wikimedia.org/wikipedia/commons/thumb/f/fa/Flag_of_the_People%27s_Republic_of_China.svg/45px-Flag_of_the_People%27s_Republic_of_China.svg.png 2x\" width=\"23\"/></a></span></span> <a href=\"/web/20230908091635/https://en.wikipedia.org/wiki/China_Construction_Bank\" title=\"China Construction Bank\">China Construction Bank</a>\n",
       "</td>\n",
       "<td>139.82\n",
       "</td></tr>\n",
       "<tr>\n",
       "<td>10\n",
       "</td>\n",
       "<td><span class=\"flagicon\"><span class=\"mw-image-border\" typeof=\"mw:File\"><a href=\"/web/20230908091635/https://en.wikipedia.org/wiki/China\" title=\"China\"><img alt=\"China\" class=\"mw-file-element\" data-file-height=\"600\" data-file-width=\"900\" decoding=\"async\" height=\"15\" src=\"//web.archive.org/web/20230908091635im_/https://upload.wikimedia.org/wikipedia/commons/thumb/f/fa/Flag_of_the_People%27s_Republic_of_China.svg/23px-Flag_of_the_People%27s_Republic_of_China.svg.png\" srcset=\"//web.archive.org/web/20230908091635im_/https://upload.wikimedia.org/wikipedia/commons/thumb/f/fa/Flag_of_the_People%27s_Republic_of_China.svg/35px-Flag_of_the_People%27s_Republic_of_China.svg.png 1.5x, //web.archive.org/web/20230908091635im_/https://upload.wikimedia.org/wikipedia/commons/thumb/f/fa/Flag_of_the_People%27s_Republic_of_China.svg/45px-Flag_of_the_People%27s_Republic_of_China.svg.png 2x\" width=\"23\"/></a></span></span> <a href=\"/web/20230908091635/https://en.wikipedia.org/wiki/Bank_of_China\" title=\"Bank of China\">Bank of China</a>\n",
       "</td>\n",
       "<td>136.81\n",
       "</td></tr></tbody></table>"
      ]
     },
     "execution_count": 6,
     "metadata": {},
     "output_type": "execute_result"
    }
   ],
   "source": [
    "data_table = soup.find(\"table\", {\"class\": \"wikitable\"})\n",
    "data_table"
   ]
  },
  {
   "cell_type": "code",
   "execution_count": 7,
   "id": "e23b507a",
   "metadata": {},
   "outputs": [
    {
     "name": "stdout",
     "output_type": "stream",
     "text": [
      "Rank\n",
      "\n",
      "Bank name\n",
      "\n",
      "Market cap(US$ billion)\n",
      "1\n",
      "\n",
      " JPMorgan Chase\n",
      "\n",
      "432.92\n",
      "2\n",
      "\n",
      " Bank of America\n",
      "\n",
      "231.52\n",
      "3\n",
      "\n",
      " Industrial and Commercial Bank of China\n",
      "\n",
      "194.56\n",
      "4\n",
      "\n",
      " Agricultural Bank of China\n",
      "\n",
      "160.68\n",
      "5\n",
      "\n",
      " HDFC Bank\n",
      "\n",
      "157.91\n",
      "6\n",
      "\n",
      " Wells Fargo\n",
      "\n",
      "155.87\n",
      "7\n",
      "\n",
      " HSBC Holdings PLC\n",
      "\n",
      "148.90\n",
      "8\n",
      "\n",
      " Morgan Stanley\n",
      "\n",
      "140.83\n",
      "9\n",
      "\n",
      " China Construction Bank\n",
      "\n",
      "139.82\n",
      "10\n",
      "\n",
      " Bank of China\n",
      "\n",
      "136.81\n"
     ]
    }
   ],
   "source": [
    "table_body = data_table.find(\"tbody\")\n",
    "\n",
    "rows = table_body.find_all(\"tr\")\n",
    "\n",
    "# Example: print each row's text content\n",
    "for row in rows:\n",
    "    print(row.text.strip())\n"
   ]
  },
  {
   "cell_type": "code",
   "execution_count": 8,
   "id": "9de6969c",
   "metadata": {},
   "outputs": [
    {
     "name": "stdout",
     "output_type": "stream",
     "text": [
      "[]\n",
      "['1', 'JPMorgan Chase', '432.92']\n",
      "['2', 'Bank of America', '231.52']\n",
      "['3', 'Industrial and Commercial Bank of China', '194.56']\n",
      "['4', 'Agricultural Bank of China', '160.68']\n",
      "['5', 'HDFC Bank', '157.91']\n",
      "['6', 'Wells Fargo', '155.87']\n",
      "['7', 'HSBC Holdings PLC', '148.90']\n",
      "['8', 'Morgan Stanley', '140.83']\n",
      "['9', 'China Construction Bank', '139.82']\n",
      "['10', 'Bank of China', '136.81']\n"
     ]
    }
   ],
   "source": [
    "for row in rows:\n",
    "    cells = row.find_all(\"td\")\n",
    "    cell_values = [cell.text.strip() for cell in cells]\n",
    "    print(cell_values)"
   ]
  },
  {
   "cell_type": "code",
   "execution_count": 9,
   "id": "187d61ea",
   "metadata": {},
   "outputs": [],
   "source": [
    "data = []\n",
    "for row in rows:\n",
    "    cells = row.find_all(\"td\")\n",
    "    cell_values = [cell.text.strip() for cell in cells]\n",
    "    if cell_values:  # Only add non-empty rows\n",
    "        data.append(cell_values)"
   ]
  },
  {
   "cell_type": "code",
   "execution_count": 10,
   "id": "5c9aa550",
   "metadata": {},
   "outputs": [
    {
     "name": "stdout",
     "output_type": "stream",
     "text": [
      "Data successfully saved to 'bank_list.csv'\n"
     ]
    }
   ],
   "source": [
    "# Create DataFrame\n",
    "df = pd.DataFrame(data)\n",
    "\n",
    "# Export to CSV\n",
    "df.to_csv(\"banks_list.csv\", index=False, encoding=\"utf-8\")\n",
    "\n",
    "print(\"Data successfully saved to 'bank_list.csv'\")"
   ]
  },
  {
   "cell_type": "code",
   "execution_count": 39,
   "id": "b0147699",
   "metadata": {},
   "outputs": [
    {
     "name": "stderr",
     "output_type": "stream",
     "text": [
      "C:\\Users\\CORECOM\\AppData\\Local\\Temp\\ipykernel_10428\\3207034511.py:6: FutureWarning: Passing literal html to 'read_html' is deprecated and will be removed in a future version. To read from a literal string, wrap it in a 'StringIO' object.\n",
      "  df = pd.read_html(str(table))[0]\n"
     ]
    }
   ],
   "source": [
    "def extract():\n",
    "    url = \"https://web.archive.org/web/20230908091635/https://en.wikipedia.org/wiki/List_of_largest_banks\"\n",
    "    response = requests.get(url).text\n",
    "    soup = BeautifulSoup(response, 'lxml')\n",
    "    table = soup.find('span', string=\"By market capitalization\").find_next('table')\n",
    "    df = pd.read_html(str(table))[0]\n",
    "    return df\n",
    "org_df = extract()"
   ]
  },
  {
   "cell_type": "markdown",
   "id": "97544015",
   "metadata": {},
   "source": [
    "# Transform"
   ]
  },
  {
   "cell_type": "code",
   "execution_count": null,
   "id": "4bba8fe4",
   "metadata": {},
   "outputs": [
    {
     "name": "stdout",
     "output_type": "stream",
     "text": [
      "{'pkr': 283.0, 'inr': 86.0, 'gbp': 0.87, 'eur': 0.74}\n"
     ]
    },
    {
     "data": {
      "text/html": [
       "<div>\n",
       "<style scoped>\n",
       "    .dataframe tbody tr th:only-of-type {\n",
       "        vertical-align: middle;\n",
       "    }\n",
       "\n",
       "    .dataframe tbody tr th {\n",
       "        vertical-align: top;\n",
       "    }\n",
       "\n",
       "    .dataframe thead th {\n",
       "        text-align: right;\n",
       "    }\n",
       "</style>\n",
       "<table border=\"1\" class=\"dataframe\">\n",
       "  <thead>\n",
       "    <tr style=\"text-align: right;\">\n",
       "      <th></th>\n",
       "      <th>Rank</th>\n",
       "      <th>Bank name</th>\n",
       "      <th>Market cap (US$ billion)</th>\n",
       "      <th>Market cap (PKR billion)s</th>\n",
       "      <th>Market cap (INR billion)s</th>\n",
       "      <th>Market cap (GBP billion)s</th>\n",
       "      <th>Market cap (EUR billion)s</th>\n",
       "    </tr>\n",
       "  </thead>\n",
       "  <tbody>\n",
       "    <tr>\n",
       "      <th>0</th>\n",
       "      <td>1</td>\n",
       "      <td>JPMorgan Chase</td>\n",
       "      <td>432.92</td>\n",
       "      <td>122516.36</td>\n",
       "      <td>37231.12</td>\n",
       "      <td>376.6404</td>\n",
       "      <td>320.3608</td>\n",
       "    </tr>\n",
       "    <tr>\n",
       "      <th>1</th>\n",
       "      <td>2</td>\n",
       "      <td>Bank of America</td>\n",
       "      <td>231.52</td>\n",
       "      <td>65520.16</td>\n",
       "      <td>19910.72</td>\n",
       "      <td>201.4224</td>\n",
       "      <td>171.3248</td>\n",
       "    </tr>\n",
       "    <tr>\n",
       "      <th>2</th>\n",
       "      <td>3</td>\n",
       "      <td>Industrial and Commercial Bank of China</td>\n",
       "      <td>194.56</td>\n",
       "      <td>55060.48</td>\n",
       "      <td>16732.16</td>\n",
       "      <td>169.2672</td>\n",
       "      <td>143.9744</td>\n",
       "    </tr>\n",
       "    <tr>\n",
       "      <th>3</th>\n",
       "      <td>4</td>\n",
       "      <td>Agricultural Bank of China</td>\n",
       "      <td>160.68</td>\n",
       "      <td>45472.44</td>\n",
       "      <td>13818.48</td>\n",
       "      <td>139.7916</td>\n",
       "      <td>118.9032</td>\n",
       "    </tr>\n",
       "    <tr>\n",
       "      <th>4</th>\n",
       "      <td>5</td>\n",
       "      <td>HDFC Bank</td>\n",
       "      <td>157.91</td>\n",
       "      <td>44688.53</td>\n",
       "      <td>13580.26</td>\n",
       "      <td>137.3817</td>\n",
       "      <td>116.8534</td>\n",
       "    </tr>\n",
       "    <tr>\n",
       "      <th>5</th>\n",
       "      <td>6</td>\n",
       "      <td>Wells Fargo</td>\n",
       "      <td>155.87</td>\n",
       "      <td>44111.21</td>\n",
       "      <td>13404.82</td>\n",
       "      <td>135.6069</td>\n",
       "      <td>115.3438</td>\n",
       "    </tr>\n",
       "    <tr>\n",
       "      <th>6</th>\n",
       "      <td>7</td>\n",
       "      <td>HSBC Holdings PLC</td>\n",
       "      <td>148.90</td>\n",
       "      <td>42138.70</td>\n",
       "      <td>12805.40</td>\n",
       "      <td>129.5430</td>\n",
       "      <td>110.1860</td>\n",
       "    </tr>\n",
       "    <tr>\n",
       "      <th>7</th>\n",
       "      <td>8</td>\n",
       "      <td>Morgan Stanley</td>\n",
       "      <td>140.83</td>\n",
       "      <td>39854.89</td>\n",
       "      <td>12111.38</td>\n",
       "      <td>122.5221</td>\n",
       "      <td>104.2142</td>\n",
       "    </tr>\n",
       "    <tr>\n",
       "      <th>8</th>\n",
       "      <td>9</td>\n",
       "      <td>China Construction Bank</td>\n",
       "      <td>139.82</td>\n",
       "      <td>39569.06</td>\n",
       "      <td>12024.52</td>\n",
       "      <td>121.6434</td>\n",
       "      <td>103.4668</td>\n",
       "    </tr>\n",
       "    <tr>\n",
       "      <th>9</th>\n",
       "      <td>10</td>\n",
       "      <td>Bank of China</td>\n",
       "      <td>136.81</td>\n",
       "      <td>38717.23</td>\n",
       "      <td>11765.66</td>\n",
       "      <td>119.0247</td>\n",
       "      <td>101.2394</td>\n",
       "    </tr>\n",
       "  </tbody>\n",
       "</table>\n",
       "</div>"
      ],
      "text/plain": [
       "   Rank                                Bank name  Market cap (US$ billion)  \\\n",
       "0     1                           JPMorgan Chase                    432.92   \n",
       "1     2                          Bank of America                    231.52   \n",
       "2     3  Industrial and Commercial Bank of China                    194.56   \n",
       "3     4               Agricultural Bank of China                    160.68   \n",
       "4     5                                HDFC Bank                    157.91   \n",
       "5     6                              Wells Fargo                    155.87   \n",
       "6     7                        HSBC Holdings PLC                    148.90   \n",
       "7     8                           Morgan Stanley                    140.83   \n",
       "8     9                  China Construction Bank                    139.82   \n",
       "9    10                            Bank of China                    136.81   \n",
       "\n",
       "   Market cap (PKR billion)s  Market cap (INR billion)s  \\\n",
       "0                  122516.36                   37231.12   \n",
       "1                   65520.16                   19910.72   \n",
       "2                   55060.48                   16732.16   \n",
       "3                   45472.44                   13818.48   \n",
       "4                   44688.53                   13580.26   \n",
       "5                   44111.21                   13404.82   \n",
       "6                   42138.70                   12805.40   \n",
       "7                   39854.89                   12111.38   \n",
       "8                   39569.06                   12024.52   \n",
       "9                   38717.23                   11765.66   \n",
       "\n",
       "   Market cap (GBP billion)s  Market cap (EUR billion)s  \n",
       "0                   376.6404                   320.3608  \n",
       "1                   201.4224                   171.3248  \n",
       "2                   169.2672                   143.9744  \n",
       "3                   139.7916                   118.9032  \n",
       "4                   137.3817                   116.8534  \n",
       "5                   135.6069                   115.3438  \n",
       "6                   129.5430                   110.1860  \n",
       "7                   122.5221                   104.2142  \n",
       "8                   121.6434                   103.4668  \n",
       "9                   119.0247                   101.2394  "
      ]
     },
     "execution_count": 40,
     "metadata": {},
     "output_type": "execute_result"
    }
   ],
   "source": [
    "def transform(df, csv_path):\n",
    "    exchange_rate = pd.read_csv(csv_path, index_col=0).to_dict()[\"rate\"]\n",
    "    print(exchange_rate)\n",
    "    \n",
    "    df[\"Market cap (PKR billion)s\"] = df[\"Market cap (US$ billion)\"] * exchange_rate[\"pkr\"]\n",
    "    df[\"Market cap (INR billion)s\"] = df[\"Market cap (US$ billion)\"] * exchange_rate[\"inr\"]\n",
    "    df[\"Market cap (GBP billion)s\"] = df[\"Market cap (US$ billion)\"] * exchange_rate[\"gbp\"]\n",
    "    df[\"Market cap (EUR billion)s\"] = df[\"Market cap (US$ billion)\"] * exchange_rate[\"eur\"]\n",
    "    return df\n",
    "\n",
    "transform(org_df, './input/currency_rate.csv')"
   ]
  }
 ],
 "metadata": {
  "kernelspec": {
   "display_name": "Python 3",
   "language": "python",
   "name": "python3"
  },
  "language_info": {
   "codemirror_mode": {
    "name": "ipython",
    "version": 3
   },
   "file_extension": ".py",
   "mimetype": "text/x-python",
   "name": "python",
   "nbconvert_exporter": "python",
   "pygments_lexer": "ipython3",
   "version": "3.12.4"
  }
 },
 "nbformat": 4,
 "nbformat_minor": 5
}
