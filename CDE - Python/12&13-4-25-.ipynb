{
 "cells": [
  {
   "cell_type": "markdown",
   "id": "4f00e89b-5ea7-4b93-ba79-403a83cf1421",
   "metadata": {},
   "source": [
    "# Cloud Data Engineering Batch 2 - SMIT\n",
    "### Class 06 and 07\n",
    "---\n",
    "# Python OOP\n",
    "\n",
    "**Why OOP was needed?**\n",
    "\n",
    "OOP is design pattern (systematic manner) that helps you to write code that can be easily reusable, increase the overall readability of the code, helps you to write clean code and increases the scalibitly to the over all application or program.\n",
    "\n",
    "**Pillars in the OOP**\n",
    "- Inheritance\n",
    "- Encapsulation\n",
    "- Polymorphism\n",
    "- Abstraction\n",
    "\n",
    "**Class** is basically a blueprint having **attributes**(properties/characteristics) and **methods**(functions). Like Car is class having attributes; wheels, color, transimission, model, make, so on and method start, climate control, cruise control,...\n",
    "\n"
   ]
  },
  {
   "cell_type": "code",
   "execution_count": 2,
   "id": "2da5e99e-3576-4843-83d7-9098d14c99af",
   "metadata": {},
   "outputs": [],
   "source": [
    "# to initiate a class use 'class' keyword\n",
    "class dog():\n",
    "    def __init__(self):\n",
    "        pass"
   ]
  },
  {
   "cell_type": "code",
   "execution_count": 3,
   "id": "37166b66-9441-4357-b18a-c4040b7b6f01",
   "metadata": {},
   "outputs": [
    {
     "name": "stdout",
     "output_type": "stream",
     "text": [
      "<__main__.dog object at 0x00000245C4929C70>\n"
     ]
    }
   ],
   "source": [
    "# object are used to use or call a class\n",
    "buck = dog()\n",
    "print(buck)"
   ]
  },
  {
   "cell_type": "code",
   "execution_count": 4,
   "id": "269d7b8a-8619-4412-8e3c-b0b4238202e7",
   "metadata": {},
   "outputs": [],
   "source": [
    "# class with attributes \n",
    "class dog:\n",
    "    def __init__(self, name, breed): # init is the method \n",
    "        self.name = name # self is used to call object\n",
    "        self.breed = breed # name and breed are the attributes"
   ]
  },
  {
   "cell_type": "code",
   "execution_count": 5,
   "id": "1fc1f059-3c92-4d67-9139-00723437246a",
   "metadata": {},
   "outputs": [
    {
     "name": "stdout",
     "output_type": "stream",
     "text": [
      "Doggy\n",
      "Pitbull\n"
     ]
    }
   ],
   "source": [
    "buck = dog('Doggy', 'Pitbull') # buck is the object with name as 'Doggy' and breed as 'Pitbull'\n",
    "print(buck.name)\n",
    "print(buck.breed)"
   ]
  },
  {
   "cell_type": "code",
   "execution_count": 6,
   "id": "44d3a02f-f61f-469b-ad88-8bacfb5372cf",
   "metadata": {},
   "outputs": [],
   "source": [
    "# methods in a class\n",
    "# class with attributes \n",
    "class dog:\n",
    "    def __init__(self, name, breed): # init is the method \n",
    "        self.name = name # self is used to call object\n",
    "        self.breed = breed # name and breed are the attributes\n",
    "\n",
    "    def bark(self):\n",
    "        print('Bark Bark!!!')"
   ]
  },
  {
   "cell_type": "code",
   "execution_count": 7,
   "id": "a144ed49-8a20-4003-8376-fd85cfdaa6da",
   "metadata": {},
   "outputs": [
    {
     "name": "stdout",
     "output_type": "stream",
     "text": [
      "Doggy\n",
      "Pitbull\n",
      "Bark Bark!!!\n"
     ]
    }
   ],
   "source": [
    "buck = dog('Doggy', 'Pitbull') # buck is the object with name as 'Doggy' and breed as 'Pitbull'\n",
    "print(buck.name)\n",
    "print(buck.breed)\n",
    "\n",
    "buck.bark()"
   ]
  },
  {
   "cell_type": "code",
   "execution_count": 8,
   "id": "9277ae91-8d90-42be-9df4-553e9c07ecb3",
   "metadata": {},
   "outputs": [
    {
     "name": "stdout",
     "output_type": "stream",
     "text": [
      "Doggy\n",
      "Husky\n"
     ]
    }
   ],
   "source": [
    "tiger = dog('Tiger', 'Husky')\n",
    "print(buck.name)\n",
    "print(tiger.breed)"
   ]
  },
  {
   "cell_type": "code",
   "execution_count": 71,
   "id": "fa6fa807-433f-44a8-9c33-d98be56bdb9e",
   "metadata": {},
   "outputs": [],
   "source": [
    "# methods with arguments\n",
    "class human:\n",
    "    # class variables\n",
    "    religion = 'Islam'\n",
    "    \n",
    "    \n",
    "    def __init__(self, name, gender, age : int = 0): # init is the method \n",
    "        self.name = name # self is used to call object\n",
    "        self.gender = gender # name, gender and age are the attributes\n",
    "        self.age = age\n",
    "\n",
    "    def greet(self):\n",
    "        print('Assalam Alaikum!!!')\n",
    "\n",
    "    def info(self):\n",
    "        print('The person',self.name,'is', self.gender,'having an age of',self.age, 'years and he is a proud', human.religion)\n",
    "\n",
    "    def friend(self, buddy):\n",
    "        self.buddy = buddy\n",
    "        buddy.buddy = self"
   ]
  },
  {
   "cell_type": "code",
   "execution_count": 74,
   "id": "a1a6ea61-2ac9-489c-bf91-91323623e1d2",
   "metadata": {},
   "outputs": [
    {
     "name": "stdout",
     "output_type": "stream",
     "text": [
      "Yasir\n",
      "10\n"
     ]
    }
   ],
   "source": [
    "person1 = human('Yasir','Male',25)\n",
    "person2 = human('Moiz','Male',10)\n",
    "print(person1.name)\n",
    "print(person2.age)"
   ]
  },
  {
   "cell_type": "code",
   "execution_count": 65,
   "id": "9a078b23-3f50-4c8b-bdbd-4e0067044e84",
   "metadata": {},
   "outputs": [],
   "source": [
    "person1.friend(person2)"
   ]
  },
  {
   "cell_type": "code",
   "execution_count": 66,
   "id": "bb1e8015-49ec-4455-9d2a-590167ed68f6",
   "metadata": {},
   "outputs": [
    {
     "name": "stdout",
     "output_type": "stream",
     "text": [
      "Moiz\n",
      "25\n"
     ]
    }
   ],
   "source": [
    "print(person1.buddy.name)\n",
    "print(person2.buddy.age)"
   ]
  },
  {
   "cell_type": "code",
   "execution_count": 67,
   "id": "90c5b8e5-a838-4bcf-ad6b-fef6e846be6c",
   "metadata": {},
   "outputs": [
    {
     "name": "stdout",
     "output_type": "stream",
     "text": [
      "The person Yasir is Male having an age of 25 years and he is a proud Islam\n",
      "None\n"
     ]
    }
   ],
   "source": [
    "print(person2.buddy.info())"
   ]
  },
  {
   "cell_type": "markdown",
   "id": "6dc61b49-2dcd-4118-b3b9-23875d5cf165",
   "metadata": {},
   "source": [
    "Let's look at this case with the help of a nested dictionary:\n",
    "\n",
    "human = {\n",
    "    'person1' -- Object : {\n",
    "        'name':'Yasir',\n",
    "        'gender':'male',\n",
    "        'age':25\n",
    "        'buddy':{\n",
    "        'name':'Moiz',\n",
    "        'gender':'male',\n",
    "        'age':'10'\n",
    "        'buddy':}\n",
    "    },\n",
    "    'person2': {\n",
    "        'name':'Moiz',\n",
    "        'gender':'male',\n",
    "        'age':'10'\n",
    "        'buddy':{\n",
    "        'name':'Yasir',\n",
    "        'gender':'male',\n",
    "        'age':25\n",
    "        'buddy':\n",
    "    }\n",
    "    }\n",
    "\n",
    "}"
   ]
  },
  {
   "cell_type": "code",
   "execution_count": 75,
   "id": "ec26a9b9-9af9-4d90-a7ef-8ebb5d4df843",
   "metadata": {},
   "outputs": [],
   "source": [
    "# create a class saylani having 3 attributes, 2 methods one withoud argument and 1 with argument and 2 class varibales\n",
    "# Also initialize 2 objects\n",
    "\n",
    "class Saylani:\n",
    "    city = \"Karachi\"\n",
    "\n",
    "    def __init__(self, name, gender, age):\n",
    "        self.name = name\n",
    "        self.gender = gender\n",
    "        self.age = age\n",
    "\n",
    "    def teacher(self, name):\n",
    "        self.name = name\n",
    "\n",
    "    def greet(self):\n",
    "        return \"Assalamualaikum!\"\n",
    "        \n"
   ]
  },
  {
   "cell_type": "code",
   "execution_count": 76,
   "id": "b9982096-4e9c-4542-8984-0538e05cc670",
   "metadata": {},
   "outputs": [],
   "source": [
    "za = Saylani(\"ZA IT Park\", \"Institute\", \"1 year\")"
   ]
  },
  {
   "cell_type": "code",
   "execution_count": 77,
   "id": "6921039e-7102-47c9-b3db-dd9b14b4a977",
   "metadata": {},
   "outputs": [
    {
     "name": "stdout",
     "output_type": "stream",
     "text": [
      "Assalamualaikum!, Im ZA IT Park\n",
      "Im an Institute and my age is 1 year\n"
     ]
    }
   ],
   "source": [
    "print(f\"{za.greet()}, Im {za.name}\\nIm an {za.gender} and my age is {za.age}\")"
   ]
  },
  {
   "cell_type": "markdown",
   "id": "8d7fd37e-2b5a-45a2-9045-504d3a942f86",
   "metadata": {},
   "source": [
    "### Class Method vs Static Methods\n",
    "\n",
    "**Class Method** a method that is bound to a class which means it has all the information about the class. It does not require the creation of the class object.\n",
    "\n",
    "**Static Method** a method that is bound to a method or function which does not have any information about the class. It also does not require the creation of the class object"
   ]
  },
  {
   "cell_type": "code",
   "execution_count": 85,
   "id": "21786d02-f370-4363-84f6-200168acd2ac",
   "metadata": {},
   "outputs": [
    {
     "ename": "TypeError",
     "evalue": "student.printage() missing 1 required positional argument: 'self'",
     "output_type": "error",
     "traceback": [
      "\u001b[1;31m---------------------------------------------------------------------------\u001b[0m",
      "\u001b[1;31mTypeError\u001b[0m                                 Traceback (most recent call last)",
      "Cell \u001b[1;32mIn[85], line 8\u001b[0m\n\u001b[0;32m      5\u001b[0m     \u001b[38;5;28;01mdef\u001b[39;00m \u001b[38;5;21mprintage\u001b[39m(\u001b[38;5;28mself\u001b[39m):\n\u001b[0;32m      6\u001b[0m         \u001b[38;5;28;01mreturn\u001b[39;00m \u001b[38;5;124m'\u001b[39m\u001b[38;5;124mThe age of the student is \u001b[39m\u001b[38;5;124m'\u001b[39m \u001b[38;5;241m+\u001b[39m \u001b[38;5;28mstr\u001b[39m(\u001b[38;5;28mself\u001b[39m\u001b[38;5;241m.\u001b[39mage)\n\u001b[1;32m----> 8\u001b[0m stud \u001b[38;5;241m=\u001b[39m \u001b[43mstudent\u001b[49m\u001b[38;5;241;43m.\u001b[39;49m\u001b[43mprintage\u001b[49m\u001b[43m(\u001b[49m\u001b[43m)\u001b[49m\n\u001b[0;32m      9\u001b[0m \u001b[38;5;28mprint\u001b[39m(stud)\n",
      "\u001b[1;31mTypeError\u001b[0m: student.printage() missing 1 required positional argument: 'self'"
     ]
    }
   ],
   "source": [
    "class student:\n",
    "    age = 25\n",
    "\n",
    "    # without class method direct call of a class method is not possible\n",
    "    def printage(self):\n",
    "        return 'The age of the student is ' + str(self.age)\n",
    "\n",
    "stud = student.printage()\n",
    "print(stud)"
   ]
  },
  {
   "cell_type": "code",
   "execution_count": 86,
   "id": "4c845899-6210-4c3c-b3e9-726551070c00",
   "metadata": {},
   "outputs": [
    {
     "name": "stdout",
     "output_type": "stream",
     "text": [
      "The age of the student is 25\n"
     ]
    }
   ],
   "source": [
    "class student:\n",
    "    age = 25\n",
    "\n",
    "    @classmethod    \n",
    "    def printage(self):\n",
    "        return 'The age of the student is ' + str(self.age)\n",
    "\n",
    "stud = student.printage()\n",
    "print(stud)"
   ]
  },
  {
   "cell_type": "code",
   "execution_count": 87,
   "id": "44404b3b-2fb7-4cda-b7bc-1684036f6c26",
   "metadata": {},
   "outputs": [
    {
     "ename": "TypeError",
     "evalue": "student.printage() missing 1 required positional argument: 'self'",
     "output_type": "error",
     "traceback": [
      "\u001b[1;31m---------------------------------------------------------------------------\u001b[0m",
      "\u001b[1;31mTypeError\u001b[0m                                 Traceback (most recent call last)",
      "Cell \u001b[1;32mIn[87], line 8\u001b[0m\n\u001b[0;32m      4\u001b[0m     \u001b[38;5;129m@staticmethod\u001b[39m    \n\u001b[0;32m      5\u001b[0m     \u001b[38;5;28;01mdef\u001b[39;00m \u001b[38;5;21mprintage\u001b[39m(\u001b[38;5;28mself\u001b[39m):\n\u001b[0;32m      6\u001b[0m         \u001b[38;5;28;01mreturn\u001b[39;00m \u001b[38;5;124m'\u001b[39m\u001b[38;5;124mThe age of the student is \u001b[39m\u001b[38;5;124m'\u001b[39m \u001b[38;5;241m+\u001b[39m \u001b[38;5;28mstr\u001b[39m(\u001b[38;5;28mself\u001b[39m\u001b[38;5;241m.\u001b[39mage)\n\u001b[1;32m----> 8\u001b[0m stud \u001b[38;5;241m=\u001b[39m \u001b[43mstudent\u001b[49m\u001b[38;5;241;43m.\u001b[39;49m\u001b[43mprintage\u001b[49m\u001b[43m(\u001b[49m\u001b[43m)\u001b[49m\n\u001b[0;32m      9\u001b[0m \u001b[38;5;28mprint\u001b[39m(stud)\n",
      "\u001b[1;31mTypeError\u001b[0m: student.printage() missing 1 required positional argument: 'self'"
     ]
    }
   ],
   "source": [
    "class student:\n",
    "    age = 25\n",
    "\n",
    "    @staticmethod #static method don't have information about the global variables or class\n",
    "    def printage(self):\n",
    "        return 'The age of the student is ' + str(self.age)\n",
    "\n",
    "stud = student.printage()\n",
    "print(stud)"
   ]
  },
  {
   "cell_type": "code",
   "execution_count": 88,
   "id": "f81c5e11-3729-4a2e-b72f-28be7d5285f0",
   "metadata": {},
   "outputs": [
    {
     "name": "stdout",
     "output_type": "stream",
     "text": [
      "33\n"
     ]
    }
   ],
   "source": [
    "class student:\n",
    "    age = 25\n",
    "\n",
    "    @staticmethod #static method don't have information about the global variables\n",
    "    def add(x,y):\n",
    "        return x+y\n",
    "\n",
    "stud = student.add(5,28)\n",
    "print(stud)"
   ]
  },
  {
   "cell_type": "markdown",
   "id": "85bb3469-8d00-4279-9f19-2737777c1e22",
   "metadata": {},
   "source": [
    "### Inheritance"
   ]
  },
  {
   "cell_type": "code",
   "execution_count": 89,
   "id": "4a0e7a8f-ff46-418d-8088-45986d1d7adc",
   "metadata": {},
   "outputs": [],
   "source": [
    "class parent():\n",
    "    # constructor\n",
    "    def __init__(self, eye_color, skin_color):\n",
    "        self.eye_color = eye_color\n",
    "        self.skin_color = skin_color\n",
    "\n",
    "    def speak(self):\n",
    "        return 'can Speak Easily'\n",
    "\n",
    "class child(parent):\n",
    "    pass"
   ]
  },
  {
   "cell_type": "code",
   "execution_count": 91,
   "id": "4dd0eec2-7e44-482d-aefd-2f4fc28bc996",
   "metadata": {},
   "outputs": [
    {
     "name": "stdout",
     "output_type": "stream",
     "text": [
      "brown\n",
      "fair\n"
     ]
    },
    {
     "data": {
      "text/plain": [
       "'can Speak Easily'"
      ]
     },
     "execution_count": 91,
     "metadata": {},
     "output_type": "execute_result"
    }
   ],
   "source": [
    "parent_obj = parent('brown', 'fair')\n",
    "print(parent_obj.eye_color)\n",
    "print(parent_obj.skin_color)\n",
    "parent_obj.speak()"
   ]
  },
  {
   "cell_type": "code",
   "execution_count": 96,
   "id": "bc9b5949-7fff-4c88-97c7-8b17b9328c82",
   "metadata": {},
   "outputs": [
    {
     "data": {
      "text/plain": [
       "'can Speak Easily'"
      ]
     },
     "execution_count": 96,
     "metadata": {},
     "output_type": "execute_result"
    }
   ],
   "source": [
    "child_obj = child('black', 'fair')\n",
    "child_obj.speak()"
   ]
  },
  {
   "cell_type": "markdown",
   "id": "4370b52e-591d-4d28-a62d-ff5f65a22bba",
   "metadata": {},
   "source": [
    "### Types of Inheritance\n",
    "<img src=\"../docs/Type_of_Inheritance.png\" alt='Types of Inheritance' width ='600'/>"
   ]
  },
  {
   "cell_type": "code",
   "execution_count": 20,
   "id": "12c3ded1-62c6-4537-a15f-c8d549a7cfc0",
   "metadata": {},
   "outputs": [],
   "source": [
    "# Heirarchial Inheritance\n",
    "# car -> parent\n",
    "# sports car -> child\n",
    "# family car -> child\n",
    "\n",
    "# Parent Class\n",
    "class car():\n",
    "    # Class variables\n",
    "    wheels = 4\n",
    "    steering = 1\n",
    "    headlights = 2\n",
    "    backlights = 2\n",
    "\n",
    "    # Constructor\n",
    "    def __init__(self, name : str, model:int, make:str):\n",
    "        self.name = name\n",
    "        self.model = model\n",
    "        self.make = make\n",
    "        \n",
    "    # Method with no attributes\n",
    "    def drive(self):\n",
    "        return 'Car is moving forward'\n",
    "\n",
    "    #method with attributes\n",
    "    def engine_capacity(self, cc : int):\n",
    "        self.cc = cc\n",
    "\n",
    "    # calculated methods\n",
    "    def mileage(self, km : float, avg : float):\n",
    "        mileage = km * avg\n",
    "        return mileage\n",
    "\n",
    "# Child Class\n",
    "class sports_car(car):\n",
    "    def __init__(self, name : str, model:int, make:str, doors:int, roof:bool, spoiler:bool):\n",
    "        super().__init__(name, model, make) # car.__init__(self, name, model, year) -> another way to initialize constructor\n",
    "        self.doors = doors\n",
    "        self.roof = roof\n",
    "        self.spoiler = spoiler\n",
    "\n",
    "    def info(self):\n",
    "        return (f'{self.name} is a sports car designed by {self.make} in year {self.model} having {self.doors} doors.')\n",
    "\n",
    "# Child Class\n",
    "class family_car(car):\n",
    "    def __init__(self, seats, doors, airbag):\n",
    "        pass # do it yourself"
   ]
  },
  {
   "cell_type": "code",
   "execution_count": 21,
   "id": "f86d276f-0593-4b87-84c9-60deb6df0629",
   "metadata": {},
   "outputs": [
    {
     "data": {
      "text/plain": [
       "'FXX is a sports car designed by Ferrari in year 2015 having 2 doors.'"
      ]
     },
     "execution_count": 21,
     "metadata": {},
     "output_type": "execute_result"
    }
   ],
   "source": [
    "ferrari = sports_car(\"FXX\", 2015, 'Ferrari', 2, True, True)\n",
    "ferrari.info()\n"
   ]
  },
  {
   "cell_type": "code",
   "execution_count": 22,
   "id": "a27a7bae-f480-482e-bc4a-d59286c6065a",
   "metadata": {},
   "outputs": [],
   "source": [
    "# Multilevel Inheritance\n",
    "class grandparent:\n",
    "    def heritage(self):\n",
    "        return 'Family Heirloom'\n",
    "\n",
    "class parent(grandparent):\n",
    "    def values(self):\n",
    "        return 'Discipline and Respect'\n",
    "\n",
    "class child(parent):\n",
    "    def hobby(self):\n",
    "        return 'cricket, chess'\n",
    "        "
   ]
  },
  {
   "cell_type": "code",
   "execution_count": 25,
   "id": "e2a19630-7bae-4e25-97fc-9b4bce1a977c",
   "metadata": {},
   "outputs": [
    {
     "name": "stdout",
     "output_type": "stream",
     "text": [
      "Family Heirloom\n",
      "Discipline and Respect\n"
     ]
    }
   ],
   "source": [
    "children = child()\n",
    "print(children.heritage())\n",
    "print(children.values())"
   ]
  },
  {
   "cell_type": "markdown",
   "id": "4cb826ef-76d5-41f3-a120-0fd6bf7b65ea",
   "metadata": {},
   "source": [
    "### Abstraction\n",
    "\n",
    "The concept of hiding the complex reality of the code and only exposing the necessary part of the code.\n",
    "\n",
    "- A class containing one or more abstract methods\n",
    "- Abstract methods does not contain their implementations\n",
    "- Abstract class are the blueprint of the other class\n",
    "- These classes are used to write complex and large codes\n",
    "- Abstract classes can note refrenced with a object"
   ]
  },
  {
   "cell_type": "code",
   "execution_count": 26,
   "id": "cd2ccf46-aa54-4218-b139-bce5b55753b7",
   "metadata": {},
   "outputs": [
    {
     "name": "stdout",
     "output_type": "stream",
     "text": [
      "Triangle has 3 sides\n"
     ]
    }
   ],
   "source": [
    "class shapes: # abstract class\n",
    "    # abstract method\n",
    "    def sides(self):\n",
    "        pass\n",
    "\n",
    "class triangle(shapes):\n",
    "    def sides(self):\n",
    "        print('Triangle has 3 sides')\n",
    "\n",
    "trianlge = triangle()\n",
    "trianlge.sides()"
   ]
  },
  {
   "cell_type": "markdown",
   "id": "dd1b8f04-38de-4cde-abc1-943c4b22858f",
   "metadata": {},
   "source": [
    "### Overloading\n",
    "Using a method in multiple ways\n",
    "- Function Overloading\n",
    "- Operator Overloading"
   ]
  },
  {
   "cell_type": "code",
   "execution_count": 29,
   "id": "ec5c1e3f-dfe2-46cc-ab99-16143102ab18",
   "metadata": {},
   "outputs": [
    {
     "ename": "TypeError",
     "evalue": "Type Error!",
     "output_type": "error",
     "traceback": [
      "\u001b[1;31m---------------------------------------------------------------------------\u001b[0m",
      "\u001b[1;31mTypeError\u001b[0m                                 Traceback (most recent call last)",
      "Cell \u001b[1;32mIn[29], line 31\u001b[0m\n\u001b[0;32m     29\u001b[0m result2 \u001b[38;5;241m=\u001b[39m adder\u001b[38;5;241m.\u001b[39madd(\u001b[38;5;241m1.4\u001b[39m,\u001b[38;5;241m5.9\u001b[39m)\n\u001b[0;32m     30\u001b[0m result3 \u001b[38;5;241m=\u001b[39m adder\u001b[38;5;241m.\u001b[39madd(\u001b[38;5;124m'\u001b[39m\u001b[38;5;124mUzair \u001b[39m\u001b[38;5;124m'\u001b[39m, \u001b[38;5;124m'\u001b[39m\u001b[38;5;124mKhan\u001b[39m\u001b[38;5;124m'\u001b[39m)\n\u001b[1;32m---> 31\u001b[0m result4 \u001b[38;5;241m=\u001b[39m \u001b[43madder\u001b[49m\u001b[38;5;241;43m.\u001b[39;49m\u001b[43madd\u001b[49m\u001b[43m(\u001b[49m\u001b[38;5;124;43m'\u001b[39;49m\u001b[38;5;124;43mSMIT\u001b[39;49m\u001b[38;5;124;43m'\u001b[39;49m\u001b[43m,\u001b[49m\u001b[43m \u001b[49m\u001b[38;5;241;43m2\u001b[39;49m\u001b[43m)\u001b[49m\n\u001b[0;32m     33\u001b[0m \u001b[38;5;28mprint\u001b[39m(result1)\n\u001b[0;32m     34\u001b[0m \u001b[38;5;28mprint\u001b[39m(result2)\n",
      "Cell \u001b[1;32mIn[29], line 25\u001b[0m, in \u001b[0;36mAdder.add\u001b[1;34m(self, x, y)\u001b[0m\n\u001b[0;32m     23\u001b[0m     \u001b[38;5;28;01mreturn\u001b[39;00m x\u001b[38;5;241m+\u001b[39my \n\u001b[0;32m     24\u001b[0m \u001b[38;5;28;01melse\u001b[39;00m:\n\u001b[1;32m---> 25\u001b[0m     \u001b[38;5;28;01mraise\u001b[39;00m \u001b[38;5;167;01mTypeError\u001b[39;00m(\u001b[38;5;124m'\u001b[39m\u001b[38;5;124mType Error!\u001b[39m\u001b[38;5;124m'\u001b[39m)\n",
      "\u001b[1;31mTypeError\u001b[0m: Type Error!"
     ]
    }
   ],
   "source": [
    "# Operator Overloading\n",
    "from typing import overload\n",
    "\n",
    "class Adder():\n",
    "\n",
    "    @overload\n",
    "    def add(self, x:int, y:int) -> int:\n",
    "        ...\n",
    "        \n",
    "    @overload\n",
    "    def add(self, x:int, y:int) -> float:\n",
    "        ...\n",
    "    \n",
    "    @overload\n",
    "    def add(self, x:int, y:int) -> str:\n",
    "        ...\n",
    "    \n",
    "    def add(self, x, y):\n",
    "        if isinstance(x, int) and isinstance(y, int):\n",
    "            return x+y\n",
    "        elif isinstance(x, float) and isinstance(y, float):\n",
    "            return x+y\n",
    "        elif isinstance(x, str) and isinstance(y, str):\n",
    "            return x+y \n",
    "        else:\n",
    "            raise TypeError('Type Error!')\n",
    "\n",
    "adder = Adder()\n",
    "result1 = adder.add(1,5)\n",
    "result2 = adder.add(1.4,5.9)\n",
    "result3 = adder.add('Uzair ', 'Khan')\n",
    "result4 = adder.add('SMIT', 2)\n",
    "\n",
    "print(result1)\n",
    "print(result2)\n",
    "print(result3)\n",
    "print(result4)"
   ]
  },
  {
   "cell_type": "code",
   "execution_count": 32,
   "id": "965d5364-2464-4dbc-b7c1-2d542d0171c9",
   "metadata": {},
   "outputs": [
    {
     "data": {
      "text/plain": [
       "'Bird is eating Chilli'"
      ]
     },
     "execution_count": 32,
     "metadata": {},
     "output_type": "execute_result"
    }
   ],
   "source": [
    "# Overriding\n",
    "class animal():\n",
    "    def eating(self, food):\n",
    "        return f'Animal is eating {food}'\n",
    "\n",
    "class bird(animal):\n",
    "    def eating(self, food):\n",
    "        return f'Bird is eating {food}'\n",
    "\n",
    "totta = bird()\n",
    "totta.eating('Chilli')\n"
   ]
  },
  {
   "cell_type": "markdown",
   "id": "ca2b131e-bf51-4d17-b1e5-c00db30b85c9",
   "metadata": {},
   "source": [
    "### Polymorphism\n",
    "The ability of different classes to execute same command or method but in different ways."
   ]
  },
  {
   "cell_type": "code",
   "execution_count": 33,
   "id": "a0cfd0f5-27cd-484b-acfc-6c7f9a6696a0",
   "metadata": {},
   "outputs": [
    {
     "data": {
      "text/plain": [
       "'Bird is eating Seeds'"
      ]
     },
     "execution_count": 33,
     "metadata": {},
     "output_type": "execute_result"
    }
   ],
   "source": [
    "totta = bird()\n",
    "totta.eating('Seeds')"
   ]
  },
  {
   "cell_type": "code",
   "execution_count": 34,
   "id": "dfe46e91-f30a-4d7e-8c76-fe09846c287c",
   "metadata": {},
   "outputs": [
    {
     "data": {
      "text/plain": [
       "'Animal is eating cake'"
      ]
     },
     "execution_count": 34,
     "metadata": {},
     "output_type": "execute_result"
    }
   ],
   "source": [
    "totta = animal()\n",
    "totta.eating('cake')"
   ]
  },
  {
   "cell_type": "markdown",
   "id": "743b9a8e-044d-4a78-999d-6df0672b2fe5",
   "metadata": {},
   "source": [
    "### Encapsulation\n",
    "Defining the scope of the variables and limiting them to either a class, method, or object."
   ]
  },
  {
   "cell_type": "code",
   "execution_count": 35,
   "id": "0f8b628b-c770-4986-ba14-48c533d6ca9f",
   "metadata": {},
   "outputs": [],
   "source": [
    "class saylani:\n",
    "    def __init__(self):\n",
    "        self.roll = '7980' # public\n",
    "        self._branch = 'Zaitoon Ashraf' # protected\n",
    "        self.__students = 800 # private"
   ]
  },
  {
   "cell_type": "code",
   "execution_count": 36,
   "id": "fe8ef44d-60bc-4af3-be83-814aabdd85d9",
   "metadata": {},
   "outputs": [],
   "source": [
    "s = saylani()"
   ]
  },
  {
   "cell_type": "code",
   "execution_count": 37,
   "id": "2ef45f89-4bff-4f74-ac91-840e3cf1263e",
   "metadata": {},
   "outputs": [
    {
     "data": {
      "text/plain": [
       "'7980'"
      ]
     },
     "execution_count": 37,
     "metadata": {},
     "output_type": "execute_result"
    }
   ],
   "source": [
    "s.roll"
   ]
  },
  {
   "cell_type": "code",
   "execution_count": 38,
   "id": "db4d44f3-a1e3-451d-96a3-3a153c09bfc9",
   "metadata": {},
   "outputs": [
    {
     "data": {
      "text/plain": [
       "'2468'"
      ]
     },
     "execution_count": 38,
     "metadata": {},
     "output_type": "execute_result"
    }
   ],
   "source": [
    "s.roll = '2468'\n",
    "s.roll"
   ]
  },
  {
   "cell_type": "code",
   "execution_count": 39,
   "id": "a51d69c5-aaa8-4663-b228-578be9e54a81",
   "metadata": {},
   "outputs": [
    {
     "data": {
      "text/plain": [
       "'Zaitoon Ashraf'"
      ]
     },
     "execution_count": 39,
     "metadata": {},
     "output_type": "execute_result"
    }
   ],
   "source": [
    "s._branch"
   ]
  },
  {
   "cell_type": "code",
   "execution_count": 40,
   "id": "f7663301-a914-4f08-8ee1-19e344807fe4",
   "metadata": {},
   "outputs": [
    {
     "data": {
      "text/plain": [
       "'Headoffice'"
      ]
     },
     "execution_count": 40,
     "metadata": {},
     "output_type": "execute_result"
    }
   ],
   "source": [
    "s._branch = 'Headoffice'\n",
    "s._branch"
   ]
  },
  {
   "cell_type": "code",
   "execution_count": 42,
   "id": "22ef244c-c6b1-42dd-88d8-1399676c366b",
   "metadata": {},
   "outputs": [
    {
     "ename": "AttributeError",
     "evalue": "'saylani' object has no attribute '__students'",
     "output_type": "error",
     "traceback": [
      "\u001b[1;31m---------------------------------------------------------------------------\u001b[0m",
      "\u001b[1;31mAttributeError\u001b[0m                            Traceback (most recent call last)",
      "Cell \u001b[1;32mIn[42], line 1\u001b[0m\n\u001b[1;32m----> 1\u001b[0m \u001b[43ms\u001b[49m\u001b[38;5;241;43m.\u001b[39;49m\u001b[43m__students\u001b[49m\n",
      "\u001b[1;31mAttributeError\u001b[0m: 'saylani' object has no attribute '__students'"
     ]
    }
   ],
   "source": [
    "s.__students"
   ]
  },
  {
   "cell_type": "markdown",
   "id": "a4df8e24-06a3-42ed-a34e-84ec287083a3",
   "metadata": {},
   "source": [
    "**Task**\n",
    "- Create an encapsulation class i.e. `StudentLogin()`\n",
    "- Initialzie 2 `static` but `private` attributes i.e. `__username` and `__password`\n",
    "- create one _private method_ i.e. `__dbconnectivity` that will validate your username and password\\\n",
    "    - if both are valid print `Connection Built`\n",
    "    - if either one is wrong print `Failed to Connect`\n",
    "- create one public method i.e. `update_password` to update your private password"
   ]
  },
  {
   "cell_type": "code",
   "execution_count": null,
   "id": "6b01e10c-856e-49eb-b28b-d8c90d3e9954",
   "metadata": {},
   "outputs": [],
   "source": []
  }
 ],
 "metadata": {
  "kernelspec": {
   "display_name": "Python 3",
   "language": "python",
   "name": "python3"
  },
  "language_info": {
   "codemirror_mode": {
    "name": "ipython",
    "version": 3
   },
   "file_extension": ".py",
   "mimetype": "text/x-python",
   "name": "python",
   "nbconvert_exporter": "python",
   "pygments_lexer": "ipython3",
   "version": "3.12.4"
  }
 },
 "nbformat": 4,
 "nbformat_minor": 5
}
